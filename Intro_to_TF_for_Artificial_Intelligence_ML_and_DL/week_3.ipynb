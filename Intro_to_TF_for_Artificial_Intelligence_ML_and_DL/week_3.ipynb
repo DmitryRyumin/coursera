{
 "cells": [
  {
   "cell_type": "markdown",
   "metadata": {},
   "source": [
    "### Установка TensоrFlow и Keras "
   ]
  },
  {
   "cell_type": "code",
   "execution_count": 19,
   "metadata": {},
   "outputs": [],
   "source": [
    "# !pip install tensorflow==2.1.0 Keras==2.3.1"
   ]
  },
  {
   "cell_type": "markdown",
   "metadata": {},
   "source": [
    "### Импорт необходимых инструментов"
   ]
  },
  {
   "cell_type": "code",
   "execution_count": 85,
   "metadata": {},
   "outputs": [],
   "source": [
    "import tensorflow as tf # Машинное обучение\n",
    "import keras # API для TensorFlow\n",
    "import numpy as np # Научные вычисления\n",
    "import matplotlib.pyplot as plt # Визуализация 2D и 3D графики\n",
    "import pandas as pd # Обработка и анализ данных\n",
    "import seaborn as sns # Визуализация (надстройка над matplotlib)\n",
    "import pylab # Построение графиков"
   ]
  },
  {
   "cell_type": "markdown",
   "metadata": {},
   "source": [
    "### Настройки необходимых инструментов"
   ]
  },
  {
   "cell_type": "code",
   "execution_count": 35,
   "metadata": {},
   "outputs": [],
   "source": [
    "pd.set_option('display.max_columns', None) # Максимальное количество отображаемых столбцов\n",
    "pd.set_option('display.max_rows', None) # Максимальное количество отображаемых строк"
   ]
  },
  {
   "cell_type": "markdown",
   "metadata": {},
   "source": [
    "### Загрузка модели"
   ]
  },
  {
   "cell_type": "code",
   "execution_count": 21,
   "metadata": {},
   "outputs": [],
   "source": [
    "mnist = tf.keras.datasets.fashion_mnist # Загрузка набора данных Fashion-MNIST"
   ]
  },
  {
   "cell_type": "markdown",
   "metadata": {},
   "source": [
    "### Загрузка набора данных и разбиение на обучающие и тестовые выборки"
   ]
  },
  {
   "cell_type": "code",
   "execution_count": 22,
   "metadata": {},
   "outputs": [],
   "source": [
    "(training_images, training_labels), (test_images, test_labels) = mnist.load_data()"
   ]
  },
  {
   "cell_type": "markdown",
   "metadata": {},
   "source": [
    "### Отображение изображения из обучающей выборки"
   ]
  },
  {
   "cell_type": "code",
   "execution_count": 23,
   "metadata": {},
   "outputs": [
    {
     "name": "stdout",
     "output_type": "stream",
     "text": [
      "[[  0   0   0   0   0   0   0  11 142 200 106   0   0   0   0   0   0   0  85 185 112   0   0   0   0   0   0   0]\n",
      " [  0   0   0   0   0   0 152 214 217 194 236 216 187 149 135 153 211 217 231 205 217 188  34   0   0   0   0   0]\n",
      " [  0   0   0   0   0  66 185 166 180 181 190 211 221 197 146 198 206 191 168 190 172 188 175   0   0   0   0   0]\n",
      " [  0   0   0   0   0 135 153 160 175 180 170 186 187 190 188 190 187 174 195 185 174 161 175  59   0   0   0   0]\n",
      " [  0   0   0   0   0 161 147 160 170 178 177 180 168 173 174 171 185 184 185 172 171 164 174 120   0   0   0   0]\n",
      " [  0   0   0   0   2 175 146 145 168 178 181 185 180 184 178 179 187 191 193 190 181 171 172 158   0   0   0   0]\n",
      " [  0   0   0   0  35 177 155 140 151 172 191 187 186 187 186 187 182 191 194 188 180 161 161 185   0   0   0   0]\n",
      " [  0   0   0   0  59 170 153 141 120 154 160 161 172 168 166 161 165 172 170 164 139 149 162 166  21   0   0   0]\n",
      " [  0   0   0   0  79 145 160 214 123 128 153 160 164 158 157 154 155 170 165 141 195 193 152 166  61   0   0   0]\n",
      " [  0   0   0   0 100 157 225 245 175 113 174 158 158 160 155 160 164 178 188 135 185 240 201 172 108   0   0   0]\n",
      " [  0   0   0   0   0  31 174  28 126 153 166 152 158 158 160 161 157 168 191 188  18 132 159   7   0   0   0   0]\n",
      " [  0   0   0   0   0   0   0   0  82 187 159 153 157 158 162 164 164 154 187 190   0   0   0   0   0   0   0   0]\n",
      " [  0   0   0   0   1   3   5   0  37 175 158 155 162 158 160 162 165 153 177 205   0   0   3   3   0   0   0   0]\n",
      " [  0   0   0   0   0   0   1   0  25 175 152 160 158 161 160 164 164 161 166 200   0   0   1   0   0   0   0   0]\n",
      " [  0   0   0   0   0   0   4   0  30 171 147 164 155 165 161 165 162 170 164 162   0   0   2   0   0   0   0   0]\n",
      " [  0   0   0   0   0   0   4   0  57 166 155 164 166 161 161 164 167 165 165 162  28   0   3   0   0   0   0   0]\n",
      " [  0   0   0   0   0   0   3   0 114 161 161 166 159 168 161 161 172 162 165 171  50   0   5   0   0   0   0   0]\n",
      " [  0   0   0   0   0   0   1   0 149 157 167 172 159 172 164 161 172 170 160 171  89   0   4   0   0   0   0   0]\n",
      " [  0   0   0   0   0   2   0   4 171 164 166 173 159 179 166 160 174 167 162 166 128   0   2   0   0   0   0   0]\n",
      " [  0   0   0   0   0   3   0  18 152 173 160 179 154 181 166 164 175 170 166 170 164   0   0   1   0   0   0   0]\n",
      " [  0   0   0   0   0   4   0  47 165 172 167 185 153 187 173 165 174 179 166 166 158   5   0   3   0   0   0   0]\n",
      " [  0   0   0   0   0   4   0  87 180 162 179 179 157 191 182 165 168 190 173 165 166  20   0   4   0   0   0   0]\n",
      " [  0   0   0   0   0   4   0 105 187 157 194 175 161 190 184 170 158 205 177 168 171  44   0   4   0   0   0   0]\n",
      " [  0   0   0   0   0   5   0 138 181 158 205 160 167 190 198 167 152 218 186 170 172  57   0   5   0   0   0   0]\n",
      " [  0   0   0   0   0   5   0 135 174 167 199 155 166 201 219 165 158 218 188 167 175  56   0   7   0   0   0   0]\n",
      " [  0   0   0   0   0   5   0 129 171 172 177 153 159 206 216 148 157 206 190 165 175  48   0   5   0   0   0   0]\n",
      " [  0   0   0   0   0   5   0 167 187 182 198 194 200 226 240 184 206 255 197 178 179  42   0   5   0   0   0   0]\n",
      " [  0   0   0   0   0   3   0 115 135 113 106  85  82 108 133  83  90 121 120 110 158  18   0   3   0   0   0   0]]\n"
     ]
    },
    {
     "data": {
      "image/png": "[encoded data removed]",
      "text/plain": [
       "<Figure size 288x288 with 1 Axes>"
      ]
     },
     "metadata": {
      "needs_background": "light"
     },
     "output_type": "display_data"
    }
   ],
   "source": [
    "num = 10 # Номер изображения\n",
    "\n",
    "np.set_printoptions(linewidth = 200) # Количество символов в строке для вставки разрывов строк \n",
    "print(training_images[num])\n",
    "\n",
    "# Создание новой фигуры\n",
    "plt.figure(\n",
    "    figsize = (4, 4) # Размер фигуры в дюймах\n",
    ")\n",
    "\n",
    "ax = plt.axes() # Добавление осей к текущей фигуре\n",
    "\n",
    "# Заголовок осей\n",
    "ax.set_title(\n",
    "    label = training_labels[num], # Заголовок\n",
    "    fontdict = {\n",
    "        'fontsize': 14, # Размер заголовка\n",
    "        'color': '#000000' # Цвет заголовка\n",
    "    },\n",
    "    pad = 10 # Отступ заголовка от вершины осей\n",
    ")\n",
    "\n",
    "# Изменение внешнего вида меток\n",
    "ax.tick_params(\n",
    "    axis = 'x', # Ось\n",
    "    direction = 'out', # Расположение линий меток\n",
    "    length = 5, # Длина линий меток\n",
    "    width = 1, # Ширина линий меток \n",
    "    color = '#000000', # Цвет линий меток\n",
    "    pad = 5, # Расстояние между линиями меток и метками\n",
    "    labelsize = 12, # Размер метки\n",
    "    labelcolor = '#000000', # Цвет метки\n",
    "    bottom = True,  # Рисование линий меток\n",
    ")\n",
    "ax.tick_params(\n",
    "    axis = 'y', # Ось\n",
    "    direction = 'out', # Расположение линий меток\n",
    "    length = 5, # Длина линий меток\n",
    "    width = 1, # Ширина линий меток \n",
    "    color = '#000000', # Цвет линий меток\n",
    "    pad = 5, # Расстояние между линиями меток и метками\n",
    "    labelsize = 12, # Размер метки\n",
    "    labelcolor = '#000000', # Цвет метки\n",
    "    left = True  # Рисование линий меток\n",
    ")\n",
    "\n",
    "plt.imshow(training_images[num]) # Отображение массива данных в виде изображения\n",
    "\n",
    "plt.show() # Отображение фигуры"
   ]
  },
  {
   "cell_type": "markdown",
   "metadata": {},
   "source": [
    "### Формат обучающей и тестовой выборки"
   ]
  },
  {
   "cell_type": "code",
   "execution_count": 25,
   "metadata": {},
   "outputs": [],
   "source": [
    "training_images = training_images.reshape(60000, 28, 28, 1)\n",
    "test_images = test_images.reshape(10000, 28, 28, 1)"
   ]
  },
  {
   "cell_type": "markdown",
   "metadata": {},
   "source": [
    "### Нормализация набора изображений и диапазона `[0:255]` в диапазон `[0:1]`"
   ]
  },
  {
   "cell_type": "code",
   "execution_count": 26,
   "metadata": {},
   "outputs": [],
   "source": [
    "training_images = training_images / 255.0 # Обучающая выборка\n",
    "test_images = test_images / 255.0 # Тестовая выборка"
   ]
  },
  {
   "cell_type": "markdown",
   "metadata": {},
   "source": [
    "### Определение модели нейронной сети\n",
    "\n",
    "**Sequential**: Последовательные слои в нейронной сети\n",
    "\n",
    "**Dense**: Добавление слоя с нейронами"
   ]
  },
  {
   "cell_type": "code",
   "execution_count": 27,
   "metadata": {},
   "outputs": [],
   "source": [
    "# Модель с последовательными слоями в нейронной сети\n",
    "model = keras.Sequential([\n",
    "    # Сверточный слой\n",
    "    keras.layers.Conv2D(\n",
    "        64, # Количество фильтров\n",
    "        (3, 3), # Размер свертки\n",
    "        activation = tf.nn.relu, # Функция активации\n",
    "        input_shape = (28, 28, 1) # Размер входных данных\n",
    "    ),\n",
    "    keras.layers.MaxPooling2D(2, 2), # Уменьшение размерности\n",
    "    # Сверточный слой\n",
    "    keras.layers.Conv2D(\n",
    "        64, # Количество фильтров\n",
    "        (3, 3), # Размер свертки\n",
    "        activation = tf.nn.relu # Функция активации\n",
    "    ),\n",
    "    keras.layers.MaxPooling2D(2,2), # Уменьшение размерности\n",
    "    keras.layers.Flatten(), # Преобразование массива пикселей в вектор пикселей\n",
    "    # Полносвязный скрытый слой\n",
    "    keras.layers.Dense(\n",
    "        units = 512, # Количество нейронов\n",
    "        activation = tf.nn.relu # Функция активации\n",
    "    ),\n",
    "    # Полносвязный слой\n",
    "    keras.layers.Dense(\n",
    "        10, # Количество нейронов = количество классов\n",
    "        activation = tf.nn.softmax # Функция активации\n",
    "    )\n",
    "])"
   ]
  },
  {
   "cell_type": "markdown",
   "metadata": {},
   "source": [
    "### Построение модели нейронной сети"
   ]
  },
  {
   "cell_type": "code",
   "execution_count": 28,
   "metadata": {},
   "outputs": [],
   "source": [
    "# Сборка модели\n",
    "model.compile(\n",
    "    optimizer = tf.optimizers.Adam(), # Оптимизатор\n",
    "    loss = 'sparse_categorical_crossentropy', # Функция потерь\n",
    "    metrics = ['accuracy'] # Метрика оценивания\n",
    ")"
   ]
  },
  {
   "cell_type": "markdown",
   "metadata": {},
   "source": [
    "### Визуализация модели"
   ]
  },
  {
   "cell_type": "code",
   "execution_count": 29,
   "metadata": {},
   "outputs": [
    {
     "name": "stdout",
     "output_type": "stream",
     "text": [
      "Model: \"sequential_2\"\n",
      "_________________________________________________________________\n",
      "Layer (type)                 Output Shape              Param #   \n",
      "=================================================================\n",
      "conv2d_3 (Conv2D)            (None, 26, 26, 64)        640       \n",
      "_________________________________________________________________\n",
      "max_pooling2d_3 (MaxPooling2 (None, 13, 13, 64)        0         \n",
      "_________________________________________________________________\n",
      "conv2d_4 (Conv2D)            (None, 11, 11, 64)        36928     \n",
      "_________________________________________________________________\n",
      "max_pooling2d_4 (MaxPooling2 (None, 5, 5, 64)          0         \n",
      "_________________________________________________________________\n",
      "flatten_2 (Flatten)          (None, 1600)              0         \n",
      "_________________________________________________________________\n",
      "dense_3 (Dense)              (None, 512)               819712    \n",
      "_________________________________________________________________\n",
      "dense_4 (Dense)              (None, 10)                5130      \n",
      "=================================================================\n",
      "Total params: 862,410\n",
      "Trainable params: 862,410\n",
      "Non-trainable params: 0\n",
      "_________________________________________________________________\n"
     ]
    }
   ],
   "source": [
    "model.summary() # Визуализация модели"
   ]
  },
  {
   "cell_type": "markdown",
   "metadata": {},
   "source": [
    "### Остановка процесса обучения"
   ]
  },
  {
   "cell_type": "code",
   "execution_count": 30,
   "metadata": {},
   "outputs": [],
   "source": [
    "class myCallback(keras.callbacks.Callback):\n",
    "    \"\"\"\n",
    "    Остановка процесса обучения\n",
    "    \"\"\"\n",
    "    \n",
    "    def on_epoch_end(self, epoch, logs = {}):\n",
    "        # Сравнение точности на текущей эпохе\n",
    "        if(logs.get('accuracy') > 0.95):\n",
    "              self.model.stop_training = True # Остановка обучения"
   ]
  },
  {
   "cell_type": "markdown",
   "metadata": {},
   "source": [
    "### Обучение модели"
   ]
  },
  {
   "cell_type": "code",
   "execution_count": 31,
   "metadata": {},
   "outputs": [
    {
     "name": "stdout",
     "output_type": "stream",
     "text": [
      "Epoch 1/5\n",
      "60000/60000 [==============================] - 49s 813us/step - loss: 0.4152 - accuracy: 0.8479\n",
      "Epoch 2/5\n",
      "60000/60000 [==============================] - 49s 815us/step - loss: 0.2784 - accuracy: 0.8973\n",
      "Epoch 3/5\n",
      "60000/60000 [==============================] - 49s 815us/step - loss: 0.2334 - accuracy: 0.9130\n",
      "Epoch 4/5\n",
      "60000/60000 [==============================] - 50s 826us/step - loss: 0.1959 - accuracy: 0.9259\n",
      "Epoch 5/5\n",
      "60000/60000 [==============================] - 49s 814us/step - loss: 0.1673 - accuracy: 0.9364\n"
     ]
    },
    {
     "data": {
      "text/plain": [
       "<keras.callbacks.callbacks.History at 0x164542a50>"
      ]
     },
     "execution_count": 31,
     "metadata": {},
     "output_type": "execute_result"
    }
   ],
   "source": [
    "callbacks = myCallback() # Остановка процесса обучения\n",
    "\n",
    "# Обучение модели\n",
    "model.fit(\n",
    "    training_images, # Обучающий набор данных\n",
    "    training_labels, # Метки классов\n",
    "    epochs = 5, # Количество эпох\n",
    "    verbose = True, # Отключение вывода\n",
    "    callbacks = [callbacks] # Вызов функции после каждой эпохи\n",
    ")"
   ]
  },
  {
   "cell_type": "markdown",
   "metadata": {},
   "source": [
    "### Проверка работы модели на тестовой выборке"
   ]
  },
  {
   "cell_type": "code",
   "execution_count": 32,
   "metadata": {},
   "outputs": [
    {
     "name": "stdout",
     "output_type": "stream",
     "text": [
      "10000/10000 [==============================] - 2s 219us/step\n"
     ]
    },
    {
     "data": {
      "text/plain": [
       "[0.2587265126526356, 0.9071000218391418]"
      ]
     },
     "execution_count": 32,
     "metadata": {},
     "output_type": "execute_result"
    }
   ],
   "source": [
    "model.evaluate(\n",
    "    test_images, # Тестовый набор данных\n",
    "    test_labels  # Метки классов\n",
    ")"
   ]
  },
  {
   "cell_type": "markdown",
   "metadata": {},
   "source": [
    "### Получение вероятностей, что определенное изображение в тестовом наборе данных является каждым из 10 классов"
   ]
  },
  {
   "cell_type": "code",
   "execution_count": 33,
   "metadata": {},
   "outputs": [
    {
     "data": {
      "text/html": [
       "<div>\n",
       "<style scoped>\n",
       "    .dataframe tbody tr th:only-of-type {\n",
       "        vertical-align: middle;\n",
       "    }\n",
       "\n",
       "    .dataframe tbody tr th {\n",
       "        vertical-align: top;\n",
       "    }\n",
       "\n",
       "    .dataframe thead th {\n",
       "        text-align: right;\n",
       "    }\n",
       "</style>\n",
       "<table border=\"1\" class=\"dataframe\">\n",
       "  <thead>\n",
       "    <tr style=\"text-align: right;\">\n",
       "      <th></th>\n",
       "      <th>0</th>\n",
       "      <th>1</th>\n",
       "      <th>2</th>\n",
       "      <th>3</th>\n",
       "      <th>4</th>\n",
       "      <th>5</th>\n",
       "      <th>6</th>\n",
       "      <th>7</th>\n",
       "      <th>8</th>\n",
       "      <th>9</th>\n",
       "    </tr>\n",
       "  </thead>\n",
       "  <tbody>\n",
       "    <tr>\n",
       "      <th>0</th>\n",
       "      <td>0.131</td>\n",
       "      <td>0.0</td>\n",
       "      <td>0.001</td>\n",
       "      <td>0.001</td>\n",
       "      <td>0.003</td>\n",
       "      <td>0.0</td>\n",
       "      <td>0.864</td>\n",
       "      <td>0.0</td>\n",
       "      <td>0.0</td>\n",
       "      <td>0.0</td>\n",
       "    </tr>\n",
       "  </tbody>\n",
       "</table>\n",
       "</div>"
      ],
      "text/plain": [
       "       0    1      2      3      4    5      6    7    8    9\n",
       "0  0.131  0.0  0.001  0.001  0.003  0.0  0.864  0.0  0.0  0.0"
      ]
     },
     "execution_count": 33,
     "metadata": {},
     "output_type": "execute_result"
    }
   ],
   "source": [
    "classifications = model.predict(test_images) # Предсказания для тестового набора данных\n",
    "\n",
    "classifications = np.around(classifications, 3) # Округление предсказаний\n",
    "\n",
    "num = 4 # Номер изображения в тестовом наборе данных\n",
    "\n",
    "# Отображение в DataFrame\n",
    "df_classifications = pd.DataFrame(data = classifications[num]).transpose() # Вероятности\n",
    "df_classifications.head(None) # Отображение первых N строк или все если указать None"
   ]
  },
  {
   "cell_type": "markdown",
   "metadata": {},
   "source": [
    "### Отображение меток классов"
   ]
  },
  {
   "cell_type": "code",
   "execution_count": 57,
   "metadata": {},
   "outputs": [
    {
     "data": {
      "text/html": [
       "<div>\n",
       "<style scoped>\n",
       "    .dataframe tbody tr th:only-of-type {\n",
       "        vertical-align: middle;\n",
       "    }\n",
       "\n",
       "    .dataframe tbody tr th {\n",
       "        vertical-align: top;\n",
       "    }\n",
       "\n",
       "    .dataframe thead th {\n",
       "        text-align: right;\n",
       "    }\n",
       "</style>\n",
       "<table border=\"1\" class=\"dataframe\">\n",
       "  <thead>\n",
       "    <tr style=\"text-align: right;\">\n",
       "      <th></th>\n",
       "      <th>0</th>\n",
       "      <th>1</th>\n",
       "      <th>2</th>\n",
       "      <th>3</th>\n",
       "      <th>4</th>\n",
       "      <th>5</th>\n",
       "      <th>6</th>\n",
       "      <th>7</th>\n",
       "      <th>8</th>\n",
       "      <th>9</th>\n",
       "      <th>10</th>\n",
       "      <th>11</th>\n",
       "      <th>12</th>\n",
       "      <th>13</th>\n",
       "      <th>14</th>\n",
       "      <th>15</th>\n",
       "      <th>16</th>\n",
       "      <th>17</th>\n",
       "      <th>18</th>\n",
       "      <th>19</th>\n",
       "      <th>20</th>\n",
       "      <th>21</th>\n",
       "      <th>22</th>\n",
       "      <th>23</th>\n",
       "      <th>24</th>\n",
       "      <th>25</th>\n",
       "      <th>26</th>\n",
       "      <th>27</th>\n",
       "      <th>28</th>\n",
       "      <th>29</th>\n",
       "      <th>30</th>\n",
       "      <th>31</th>\n",
       "      <th>32</th>\n",
       "      <th>33</th>\n",
       "      <th>34</th>\n",
       "      <th>35</th>\n",
       "      <th>36</th>\n",
       "      <th>37</th>\n",
       "      <th>38</th>\n",
       "      <th>39</th>\n",
       "      <th>40</th>\n",
       "      <th>41</th>\n",
       "      <th>42</th>\n",
       "      <th>43</th>\n",
       "      <th>44</th>\n",
       "    </tr>\n",
       "  </thead>\n",
       "  <tbody>\n",
       "    <tr>\n",
       "      <th>0</th>\n",
       "      <td>9</td>\n",
       "      <td>2</td>\n",
       "      <td>1</td>\n",
       "      <td>1</td>\n",
       "      <td>6</td>\n",
       "      <td>1</td>\n",
       "      <td>4</td>\n",
       "      <td>6</td>\n",
       "      <td>5</td>\n",
       "      <td>7</td>\n",
       "      <td>4</td>\n",
       "      <td>5</td>\n",
       "      <td>7</td>\n",
       "      <td>3</td>\n",
       "      <td>4</td>\n",
       "      <td>1</td>\n",
       "      <td>2</td>\n",
       "      <td>4</td>\n",
       "      <td>8</td>\n",
       "      <td>0</td>\n",
       "      <td>2</td>\n",
       "      <td>5</td>\n",
       "      <td>7</td>\n",
       "      <td>9</td>\n",
       "      <td>1</td>\n",
       "      <td>4</td>\n",
       "      <td>6</td>\n",
       "      <td>0</td>\n",
       "      <td>9</td>\n",
       "      <td>3</td>\n",
       "      <td>8</td>\n",
       "      <td>8</td>\n",
       "      <td>3</td>\n",
       "      <td>3</td>\n",
       "      <td>8</td>\n",
       "      <td>0</td>\n",
       "      <td>7</td>\n",
       "      <td>5</td>\n",
       "      <td>7</td>\n",
       "      <td>9</td>\n",
       "      <td>6</td>\n",
       "      <td>1</td>\n",
       "      <td>3</td>\n",
       "      <td>7</td>\n",
       "      <td>6</td>\n",
       "    </tr>\n",
       "  </tbody>\n",
       "</table>\n",
       "</div>"
      ],
      "text/plain": [
       "   0  1  2  3  4  5  6  7  8  9  10  11  12  13  14  15  16  17  18  19  20  \\\n",
       "0  9  2  1  1  6  1  4  6  5  7   4   5   7   3   4   1   2   4   8   0   2   \n",
       "\n",
       "   21  22  23  24  25  26  27  28  29  30  31  32  33  34  35  36  37  38  39  \\\n",
       "0   5   7   9   1   4   6   0   9   3   8   8   3   3   8   0   7   5   7   9   \n",
       "\n",
       "   40  41  42  43  44  \n",
       "0   6   1   3   7   6  "
      ]
     },
     "execution_count": 57,
     "metadata": {},
     "output_type": "execute_result"
    }
   ],
   "source": [
    "num = 45 # Количество отображаемых меток\n",
    "\n",
    "# Отображение в DataFrame\n",
    "df_classifications = pd.DataFrame(data = test_labels[:num]).transpose() # Метки классов\n",
    "df_classifications.head(None) # Отображение первых N строк или все если указать None"
   ]
  },
  {
   "cell_type": "markdown",
   "metadata": {},
   "source": [
    "### Визуализация процесса сверток и уменьшения размерности"
   ]
  },
  {
   "cell_type": "code",
   "execution_count": 160,
   "metadata": {},
   "outputs": [
    {
     "data": {
      "image/png": "[encoded data removed]",
      "text/plain": [
       "<Figure size 1080x864 with 12 Axes>"
      ]
     },
     "metadata": {},
     "output_type": "display_data"
    }
   ],
   "source": [
    "conv_num = 10 # Номер свертки\n",
    "cols = 4 # Количество столбцов\n",
    "rows = [2, 3, 5] # Количество строк (индексы меток классов)\n",
    "\n",
    "layer_outputs = [layer.output for layer in model.layers] # Выходные слои\n",
    "\n",
    "# Объединение слоев в объект с функциями обучения и вывода\n",
    "activation_model = keras.models.Model(inputs = model.input, outputs = layer_outputs)\n",
    "\n",
    "# Создание новой фигуры\n",
    "fig = plt.figure(\n",
    "    figsize = (15, 12) # Размер фигуры в дюймах\n",
    ")\n",
    "\n",
    "# Установка эстетических параметров\n",
    "sns.set(\n",
    "    style = 'white', # Стиль\n",
    "    palette = 'muted', # Пальтра\n",
    "    color_codes = True\n",
    ")\n",
    "sns.despine(left = True)\n",
    "\n",
    "# Цветовая палитра\n",
    "cmap = 'viridis' # https://matplotlib.org/3.1.0/tutorials/colors/colormaps.html\n",
    "\n",
    "# Проход по всем столбцам\n",
    "for i in range(0, cols):\n",
    "    # Проход по всем строкам\n",
    "    for j in range(0, len(rows)):\n",
    "        # Создание оси в определенном месте внутри регулярной сетки\n",
    "        ax = pylab.subplot2grid((len(rows), cols), (j, i))\n",
    "        \n",
    "        if i == 0:\n",
    "            # Заголовок осей\n",
    "            ax.set_title(\n",
    "                label = rows[j], # Заголовок\n",
    "                fontdict = {\n",
    "                    'fontsize': 14, # Размер заголовка\n",
    "                    'color': '#000000' # Цвет заголовка\n",
    "                },\n",
    "                pad = 10 # Отступ заголовка от вершины осей\n",
    "            )\n",
    "        \n",
    "        # Изменение внешнего вида меток\n",
    "        ax.tick_params(\n",
    "            axis = 'x', # Ось\n",
    "            direction = 'out', # Расположение линий меток\n",
    "            length = 10, # Длина линий меток\n",
    "            width = 1, # Ширина линий меток \n",
    "            color = '#000000', # Цвет линий меток\n",
    "            pad = 5, # Расстояние между линиями меток и метками\n",
    "            labelsize = 14, # Размер метки\n",
    "            labelcolor = '#000000', # Цвет метки\n",
    "            bottom = True,  # Рисование линий меток\n",
    "        )\n",
    "        ax.tick_params(\n",
    "            axis = 'y', # Ось\n",
    "            direction = 'out', # Расположение линий меток\n",
    "            length = 10, # Длина линий меток\n",
    "            width = 1, # Ширина линий меток \n",
    "            color = '#000000', # Цвет линий меток\n",
    "            pad = 5, # Расстояние между линиями меток и метками\n",
    "            labelsize = 14, # Размер метки\n",
    "            labelcolor = '#000000', # Цвет метки\n",
    "            left = True  # Рисование линий меток\n",
    "        )\n",
    "        \n",
    "         # Предсказание\n",
    "        f = activation_model.predict(test_images[rows[j]].reshape(1, 28, 28, 1))[i]\n",
    "        \n",
    "        # Отображение данных в виде изображения\n",
    "        ax.imshow(f[0, : , :, conv_num], cmap = cmap)\n",
    "        ax.grid(False) # Отключение сетки\n",
    "\n",
    "# Заголовок фигуры\n",
    "pylab.suptitle(\n",
    "    t = 'Визуализация процесса сверток и уменьшения размерности', # Заголовок\n",
    "    fontsize = 24, # Размер заголовка\n",
    "    fontdict = {\n",
    "        'color': '#000000' # Цвет заголовка\n",
    "    },\n",
    "    y = 1.03 # Отступ заголовка от вершины осей\n",
    ")\n",
    "\n",
    "fig.tight_layout(pad = 0) # Установка расстояния между осями\n",
    "\n",
    "plt.show() # Отображение фигуры"
   ]
  },
  {
   "cell_type": "code",
   "execution_count": null,
   "metadata": {},
   "outputs": [],
   "source": []
  }
 ],
 "metadata": {
  "kernelspec": {
   "display_name": "Python 3",
   "language": "python",
   "name": "python3"
  },
  "language_info": {
   "codemirror_mode": {
    "name": "ipython",
    "version": 3
   },
   "file_extension": ".py",
   "mimetype": "text/x-python",
   "name": "python",
   "nbconvert_exporter": "python",
   "pygments_lexer": "ipython3",
   "version": "3.7.7"
  }
 },
 "nbformat": 4,
 "nbformat_minor": 4
}
