{
 "cells": [
  {
   "cell_type": "markdown",
   "metadata": {},
   "source": [
    "### Установка TensоrFlow и Keras "
   ]
  },
  {
   "cell_type": "code",
   "execution_count": 162,
   "metadata": {},
   "outputs": [],
   "source": [
    "# !pip install tensorflow==2.1.0 Keras==2.3.1"
   ]
  },
  {
   "cell_type": "markdown",
   "metadata": {},
   "source": [
    "### Импорт необходимых инструментов"
   ]
  },
  {
   "cell_type": "code",
   "execution_count": 163,
   "metadata": {},
   "outputs": [],
   "source": [
    "import tensorflow as tf # Машинное обучение\n",
    "import keras # API для TensorFlow\n",
    "import numpy as np # Научные вычисления\n",
    "import matplotlib.pyplot as plt # Визуализация 2D и 3D графики\n",
    "import pandas as pd # Обработка и анализ данных"
   ]
  },
  {
   "cell_type": "markdown",
   "metadata": {},
   "source": [
    "### Загрузка модели"
   ]
  },
  {
   "cell_type": "code",
   "execution_count": 164,
   "metadata": {},
   "outputs": [],
   "source": [
    "mnist = tf.keras.datasets.fashion_mnist # Загрузка набора данных Fashion-MNIST"
   ]
  },
  {
   "cell_type": "markdown",
   "metadata": {},
   "source": [
    "### Загрузка набора данных и разбиение на обучающие и тестовые выборки"
   ]
  },
  {
   "cell_type": "code",
   "execution_count": 165,
   "metadata": {},
   "outputs": [],
   "source": [
    "(training_images, training_labels), (test_images, test_labels) = mnist.load_data()"
   ]
  },
  {
   "cell_type": "markdown",
   "metadata": {},
   "source": [
    "### Отображение изображения из обучающей выборки"
   ]
  },
  {
   "cell_type": "code",
   "execution_count": 166,
   "metadata": {},
   "outputs": [
    {
     "name": "stdout",
     "output_type": "stream",
     "text": [
      "[[  0   0   0   0   0   0   0  11 142 200 106   0   0   0   0   0   0   0  85 185 112   0   0   0   0   0   0   0]\n",
      " [  0   0   0   0   0   0 152 214 217 194 236 216 187 149 135 153 211 217 231 205 217 188  34   0   0   0   0   0]\n",
      " [  0   0   0   0   0  66 185 166 180 181 190 211 221 197 146 198 206 191 168 190 172 188 175   0   0   0   0   0]\n",
      " [  0   0   0   0   0 135 153 160 175 180 170 186 187 190 188 190 187 174 195 185 174 161 175  59   0   0   0   0]\n",
      " [  0   0   0   0   0 161 147 160 170 178 177 180 168 173 174 171 185 184 185 172 171 164 174 120   0   0   0   0]\n",
      " [  0   0   0   0   2 175 146 145 168 178 181 185 180 184 178 179 187 191 193 190 181 171 172 158   0   0   0   0]\n",
      " [  0   0   0   0  35 177 155 140 151 172 191 187 186 187 186 187 182 191 194 188 180 161 161 185   0   0   0   0]\n",
      " [  0   0   0   0  59 170 153 141 120 154 160 161 172 168 166 161 165 172 170 164 139 149 162 166  21   0   0   0]\n",
      " [  0   0   0   0  79 145 160 214 123 128 153 160 164 158 157 154 155 170 165 141 195 193 152 166  61   0   0   0]\n",
      " [  0   0   0   0 100 157 225 245 175 113 174 158 158 160 155 160 164 178 188 135 185 240 201 172 108   0   0   0]\n",
      " [  0   0   0   0   0  31 174  28 126 153 166 152 158 158 160 161 157 168 191 188  18 132 159   7   0   0   0   0]\n",
      " [  0   0   0   0   0   0   0   0  82 187 159 153 157 158 162 164 164 154 187 190   0   0   0   0   0   0   0   0]\n",
      " [  0   0   0   0   1   3   5   0  37 175 158 155 162 158 160 162 165 153 177 205   0   0   3   3   0   0   0   0]\n",
      " [  0   0   0   0   0   0   1   0  25 175 152 160 158 161 160 164 164 161 166 200   0   0   1   0   0   0   0   0]\n",
      " [  0   0   0   0   0   0   4   0  30 171 147 164 155 165 161 165 162 170 164 162   0   0   2   0   0   0   0   0]\n",
      " [  0   0   0   0   0   0   4   0  57 166 155 164 166 161 161 164 167 165 165 162  28   0   3   0   0   0   0   0]\n",
      " [  0   0   0   0   0   0   3   0 114 161 161 166 159 168 161 161 172 162 165 171  50   0   5   0   0   0   0   0]\n",
      " [  0   0   0   0   0   0   1   0 149 157 167 172 159 172 164 161 172 170 160 171  89   0   4   0   0   0   0   0]\n",
      " [  0   0   0   0   0   2   0   4 171 164 166 173 159 179 166 160 174 167 162 166 128   0   2   0   0   0   0   0]\n",
      " [  0   0   0   0   0   3   0  18 152 173 160 179 154 181 166 164 175 170 166 170 164   0   0   1   0   0   0   0]\n",
      " [  0   0   0   0   0   4   0  47 165 172 167 185 153 187 173 165 174 179 166 166 158   5   0   3   0   0   0   0]\n",
      " [  0   0   0   0   0   4   0  87 180 162 179 179 157 191 182 165 168 190 173 165 166  20   0   4   0   0   0   0]\n",
      " [  0   0   0   0   0   4   0 105 187 157 194 175 161 190 184 170 158 205 177 168 171  44   0   4   0   0   0   0]\n",
      " [  0   0   0   0   0   5   0 138 181 158 205 160 167 190 198 167 152 218 186 170 172  57   0   5   0   0   0   0]\n",
      " [  0   0   0   0   0   5   0 135 174 167 199 155 166 201 219 165 158 218 188 167 175  56   0   7   0   0   0   0]\n",
      " [  0   0   0   0   0   5   0 129 171 172 177 153 159 206 216 148 157 206 190 165 175  48   0   5   0   0   0   0]\n",
      " [  0   0   0   0   0   5   0 167 187 182 198 194 200 226 240 184 206 255 197 178 179  42   0   5   0   0   0   0]\n",
      " [  0   0   0   0   0   3   0 115 135 113 106  85  82 108 133  83  90 121 120 110 158  18   0   3   0   0   0   0]]\n"
     ]
    },
    {
     "data": {
      "image/png": "[encoded data removed]",
      "text/plain": [
       "<Figure size 288x288 with 1 Axes>"
      ]
     },
     "metadata": {
      "needs_background": "light"
     },
     "output_type": "display_data"
    }
   ],
   "source": [
    "num = 10 # Номер изображения\n",
    "\n",
    "np.set_printoptions(linewidth = 200) # Количество символов в строке для вставки разрывов строк \n",
    "print(training_images[num])\n",
    "\n",
    "# Создание новой фигуры\n",
    "plt.figure(\n",
    "    figsize = (4, 4) # Размер фигуры в дюймах\n",
    ")\n",
    "\n",
    "ax = plt.axes() # Добавление осей к текущей фигуре\n",
    "\n",
    "# Заголовок осей\n",
    "ax.set_title(\n",
    "    label = training_labels[num], # Заголовок\n",
    "    fontdict = {\n",
    "        'fontsize': 14, # Размер заголовка\n",
    "        'color': '#000000' # Цвет заголовка\n",
    "    },\n",
    "    pad = 10 # Отступ заголовка от вершины осей\n",
    ")\n",
    "\n",
    "# Изменение внешнего вида меток\n",
    "ax.tick_params(\n",
    "    axis = 'x', # Ось\n",
    "    direction = 'out', # Расположение линий меток\n",
    "    length = 5, # Длина линий меток\n",
    "    width = 1, # Ширина линий меток \n",
    "    color = '#000000', # Цвет линий меток\n",
    "    pad = 5, # Расстояние между линиями меток и метками\n",
    "    labelsize = 12, # Размер метки\n",
    "    labelcolor = '#000000', # Цвет метки\n",
    "    bottom = True,  # Рисование линий меток\n",
    ")\n",
    "ax.tick_params(\n",
    "    axis = 'y', # Ось\n",
    "    direction = 'out', # Расположение линий меток\n",
    "    length = 5, # Длина линий меток\n",
    "    width = 1, # Ширина линий меток \n",
    "    color = '#000000', # Цвет линий меток\n",
    "    pad = 5, # Расстояние между линиями меток и метками\n",
    "    labelsize = 12, # Размер метки\n",
    "    labelcolor = '#000000', # Цвет метки\n",
    "    left = True  # Рисование линий меток\n",
    ")\n",
    "\n",
    "plt.imshow(training_images[num]) # Отображение массива данных в виде изображения\n",
    "\n",
    "plt.show() # Отображение фигуры"
   ]
  },
  {
   "cell_type": "markdown",
   "metadata": {},
   "source": [
    "### Нормализация набора изображений и диапазона `[0:255]` в диапазон `[0:1]`"
   ]
  },
  {
   "cell_type": "code",
   "execution_count": 168,
   "metadata": {},
   "outputs": [],
   "source": [
    "training_images = training_images / 255.0 # Обучающая выборка\n",
    "test_images = test_images / 255.0 # Тестовая выборка"
   ]
  },
  {
   "cell_type": "markdown",
   "metadata": {},
   "source": [
    "### Определение модели нейронной сети\n",
    "\n",
    "**Sequential**: Последовательные слои в нейронной сети\n",
    "\n",
    "**Dense**: Добавление слоя с нейронами"
   ]
  },
  {
   "cell_type": "code",
   "execution_count": 169,
   "metadata": {},
   "outputs": [],
   "source": [
    "# Модель с последовательными слоями в нейронной сети\n",
    "model = keras.Sequential([\n",
    "    keras.layers.Flatten(), # Преобразование массива пикселей в вектор пикселей\n",
    "    # Полносвязный скрытый слой\n",
    "    keras.layers.Dense(\n",
    "        units = 128, # Количество нейронов\n",
    "        activation = tf.nn.relu # Функция активации\n",
    "    ),\n",
    "    # Полносвязный слой\n",
    "    keras.layers.Dense(\n",
    "        10, # Количество нейронов = количество классов\n",
    "        activation = tf.nn.softmax # Функция активации\n",
    "    )\n",
    "])"
   ]
  },
  {
   "cell_type": "markdown",
   "metadata": {},
   "source": [
    "### Построение модели нейронной сети"
   ]
  },
  {
   "cell_type": "code",
   "execution_count": 170,
   "metadata": {},
   "outputs": [],
   "source": [
    "# Сборка модели\n",
    "model.compile(\n",
    "    optimizer = tf.optimizers.Adam(), # Оптимизатор\n",
    "    loss = 'sparse_categorical_crossentropy', # Функция потерь\n",
    "    metrics = ['accuracy'] # Метрика оценивания\n",
    ")"
   ]
  },
  {
   "cell_type": "markdown",
   "metadata": {},
   "source": [
    "### Остановка процесса обучения"
   ]
  },
  {
   "cell_type": "code",
   "execution_count": 171,
   "metadata": {},
   "outputs": [],
   "source": [
    "class myCallback(keras.callbacks.Callback):\n",
    "    \"\"\"\n",
    "    Остановка процесса обучения\n",
    "    \"\"\"\n",
    "    \n",
    "    def on_epoch_end(self, epoch, logs = {}):\n",
    "        # Сравнение точности на текущей эпохе\n",
    "        if(logs.get('accuracy') > 0.95):\n",
    "              self.model.stop_training = True # Остановка обучения"
   ]
  },
  {
   "cell_type": "markdown",
   "metadata": {},
   "source": [
    "### Обучение модели"
   ]
  },
  {
   "cell_type": "code",
   "execution_count": 172,
   "metadata": {},
   "outputs": [
    {
     "name": "stdout",
     "output_type": "stream",
     "text": [
      "Epoch 1/5\n",
      "60000/60000 [==============================] - 2s 30us/step - loss: 1.0910 - accuracy: 0.6602\n",
      "Epoch 2/5\n",
      "60000/60000 [==============================] - 2s 28us/step - loss: 0.6365 - accuracy: 0.7715\n",
      "Epoch 3/5\n",
      "60000/60000 [==============================] - 2s 27us/step - loss: 0.5606 - accuracy: 0.8008\n",
      "Epoch 4/5\n",
      "60000/60000 [==============================] - 2s 28us/step - loss: 0.5186 - accuracy: 0.8158\n",
      "Epoch 5/5\n",
      "60000/60000 [==============================] - 2s 27us/step - loss: 0.4912 - accuracy: 0.8260\n"
     ]
    },
    {
     "data": {
      "text/plain": [
       "<keras.callbacks.callbacks.History at 0x172e0ac10>"
      ]
     },
     "execution_count": 172,
     "metadata": {},
     "output_type": "execute_result"
    }
   ],
   "source": [
    "callbacks = myCallback() # Остановка процесса обучения\n",
    "\n",
    "# Обучение модели\n",
    "model.fit(\n",
    "    training_images, # Обучающий набор данных\n",
    "    training_labels, # Метки классов\n",
    "    epochs = 5, # Количество эпох\n",
    "    verbose = True, # Отключение вывода\n",
    "    callbacks = [callbacks] # Вызов функции после каждой эпохи\n",
    ")"
   ]
  },
  {
   "cell_type": "markdown",
   "metadata": {},
   "source": [
    "### Проверка работы модели на тестовой выборке"
   ]
  },
  {
   "cell_type": "code",
   "execution_count": 173,
   "metadata": {},
   "outputs": [
    {
     "name": "stdout",
     "output_type": "stream",
     "text": [
      "10000/10000 [==============================] - 0s 21us/step\n"
     ]
    },
    {
     "data": {
      "text/plain": [
       "[0.5072126101493836, 0.8177000284194946]"
      ]
     },
     "execution_count": 173,
     "metadata": {},
     "output_type": "execute_result"
    }
   ],
   "source": [
    "model.evaluate(\n",
    "    test_images, # Тестовый набор данных\n",
    "    test_labels  # Метки классов\n",
    ")"
   ]
  },
  {
   "cell_type": "markdown",
   "metadata": {},
   "source": [
    "### Получение вероятностей, что определенное изображение в тестовом наборе данных является каждым из 10 классов"
   ]
  },
  {
   "cell_type": "code",
   "execution_count": 174,
   "metadata": {},
   "outputs": [
    {
     "data": {
      "text/html": [
       "<div>\n",
       "<style scoped>\n",
       "    .dataframe tbody tr th:only-of-type {\n",
       "        vertical-align: middle;\n",
       "    }\n",
       "\n",
       "    .dataframe tbody tr th {\n",
       "        vertical-align: top;\n",
       "    }\n",
       "\n",
       "    .dataframe thead th {\n",
       "        text-align: right;\n",
       "    }\n",
       "</style>\n",
       "<table border=\"1\" class=\"dataframe\">\n",
       "  <thead>\n",
       "    <tr style=\"text-align: right;\">\n",
       "      <th></th>\n",
       "      <th>0</th>\n",
       "      <th>1</th>\n",
       "      <th>2</th>\n",
       "      <th>3</th>\n",
       "      <th>4</th>\n",
       "      <th>5</th>\n",
       "      <th>6</th>\n",
       "      <th>7</th>\n",
       "      <th>8</th>\n",
       "      <th>9</th>\n",
       "    </tr>\n",
       "  </thead>\n",
       "  <tbody>\n",
       "    <tr>\n",
       "      <th>0</th>\n",
       "      <td>0.112</td>\n",
       "      <td>0.001</td>\n",
       "      <td>0.141</td>\n",
       "      <td>0.026</td>\n",
       "      <td>0.015</td>\n",
       "      <td>0.0</td>\n",
       "      <td>0.698</td>\n",
       "      <td>0.0</td>\n",
       "      <td>0.008</td>\n",
       "      <td>0.0</td>\n",
       "    </tr>\n",
       "  </tbody>\n",
       "</table>\n",
       "</div>"
      ],
      "text/plain": [
       "       0      1      2      3      4    5      6    7      8    9\n",
       "0  0.112  0.001  0.141  0.026  0.015  0.0  0.698  0.0  0.008  0.0"
      ]
     },
     "execution_count": 174,
     "metadata": {},
     "output_type": "execute_result"
    }
   ],
   "source": [
    "classifications = model.predict(test_images) # Предсказания для тестового набора данных\n",
    "\n",
    "classifications = np.around(classifications, 3) # Округление предсказаний\n",
    "\n",
    "num = 4 # Номер изображения в тестовом наборе данных\n",
    "\n",
    "# Отображение в DataFrame\n",
    "df_classifications = pd.DataFrame(data = classifications[num]).transpose() # Вероятности\n",
    "df_classifications.head(None) # Отображение первых N строк или все если указать None"
   ]
  }
 ],
 "metadata": {
  "kernelspec": {
   "display_name": "Python 3",
   "language": "python",
   "name": "python3"
  },
  "language_info": {
   "codemirror_mode": {
    "name": "ipython",
    "version": 3
   },
   "file_extension": ".py",
   "mimetype": "text/x-python",
   "name": "python",
   "nbconvert_exporter": "python",
   "pygments_lexer": "ipython3",
   "version": "3.7.7"
  }
 },
 "nbformat": 4,
 "nbformat_minor": 4
}
