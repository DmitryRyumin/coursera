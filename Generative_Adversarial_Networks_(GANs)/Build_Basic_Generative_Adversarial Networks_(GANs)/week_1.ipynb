{
 "cells": [
  {
   "cell_type": "markdown",
   "metadata": {},
   "source": [
    "## Создание базовых генеративно-созтязательных сетей (GAN)\n",
    "\n",
    "> Неделя 1 (Введение в GAN)\n",
    "\n",
    "<hr>"
   ]
  },
  {
   "cell_type": "markdown",
   "metadata": {},
   "source": [
    "### Разновидности моделей в машинном обучении\n",
    "\n",
    "> - Дискриминативные модели - используются для классификации (например, различие между кошками и собаками)\n",
    "> - **Генеративные модели** - пытаются узнать как сделать реалистичное представление некоторого класса (например, представление собаки)\n",
    "\n",
    "<h4 align=\"center\">\n",
    "    <img width=\"600px\" src=\"./img/discriminative_and_generative_models.png\" alt=\"Дискриминативные и генеративные модели\" />\n",
    "</h4>"
   ]
  },
  {
   "cell_type": "markdown",
   "metadata": {},
   "source": [
    "### Типы генеративных моделей\n",
    "\n",
    "- Вариационные автоэнкодеры (VAE)\n",
    "\n",
    "<h4 align=\"center\">\n",
    "    <img width=\"600px\" src=\"./img/vae_schema.jpg\" alt=\"VAE\" />\n",
    "</h4>\n",
    "\n",
    "- **Генеративно-состязательные сети (GAN)**\n",
    "\n",
    "<h4 align=\"center\">\n",
    "    <img width=\"600px\" src=\"./img/gan_schema.png\" alt=\"GAN\" />\n",
    "</h4>\n",
    "\n",
    "<h4 align=\"center\">\n",
    "    <img width=\"600px\" src=\"./img/gan_schema_in_detail.png\" alt=\"Detail GAN\" />\n",
    "</h4>\n",
    "\n",
    "<h4 align=\"center\">\n",
    "    <img width=\"300px\" src=\"./img/gan_schema_in_detail_2.png\" alt=\"Detail GAN\" />\n",
    "</h4>"
   ]
  },
  {
   "cell_type": "markdown",
   "metadata": {},
   "source": [
    "### Эволюция GAN\n",
    "\n",
    "> GAN существуют с 2014 года (см. [Generative Adversarial Networks](https://arxiv.org/abs/1406.2661)), однако уже достигли впечатляющей производительности при выполнении множества задач (см. [StyleGAN2](https://www.thispersondoesnotexist.com/)).\n",
    "\n",
    "<h4 align=\"center\">\n",
    "    <img width=\"600px\" src=\"./img/evolution_gan.jpg\" alt=\"Эволюция GAN\" />\n",
    "</h4>\n",
    "\n",
    "> GAN могут учиться на любых данных, которые им предоставлены."
   ]
  },
  {
   "cell_type": "markdown",
   "metadata": {},
   "source": [
    "### Логика GAN\n",
    "\n",
    "> GAN - это мощные модели способные учиться создавать реалистичные объекты, которые будут трудно отличить от существующих реальных (например, человеческие лица). GAN состоят из генератора и дискриминатора, которые конкурируют между собой.\n",
    ">\n",
    "> - Генератор (подделыватель картин) учится генерировать фейки, которые выглядят настоящими, чтобы обмануть дискриминатор\n",
    "\n",
    "<h4 align=\"center\">\n",
    "    <img width=\"600px\" src=\"./img/generator.jpg\" alt=\"Генератор\" />\n",
    "</h4>\n",
    "\n",
    "> - Дискриминатор (арт-инспектор) учится различать что настоящее, а что подделка\n",
    "> \n",
    "> **Особенности обучения:**\n",
    "> - В процессе обучения генератору не разрешено видеть оригинальных изображений. Он даже не знает, что представляют из себя эти изображения\n",
    "> - Дискриминатору разрешено смотреть на оригинальные изображения в процессе обучения. Однако на вход ему подаются перемешанные фейковые и оригинальные изображения и он не знает, какие из них настоящие. Это дискриминатору предстоит выяснить в процессе обучения.\n",
    ">\n",
    "> **Проблема при обучении:**\n",
    "> - Слишком быстрый процесс обучения дискриминатора. Когда дискриминатор обучается быстро, он смотрит на поддельное изображение и говорит: это 100% подделка. Однако эти 100% бесполезны для генератора, потому что он не знает в каком направлении улучшаться. Таким образом, вывод дискриминатора будет более информативным, например, если он определит, что изображение фальшивое на 87% или 20%, в отличие от 100%."
   ]
  },
  {
   "cell_type": "markdown",
   "metadata": {},
   "source": [
    "### Введение в PyTorch\n",
    "\n",
    "> **PyTorch** наравне с **TensorFlow** самые популярные фреймворки для глубокого машинного обучения\n",
    ">\n",
    "> Основное различие между ними **PyTorch** и **TensorFlow** заключается в способе, которым они обычно производят вычисления, в **PyTorch** все вычисления производятся последовательно (императивное программирование). В **TensorFlow** сперва опрелеляются функции, а потом производятся вычисления (символический подход).\n",
    "\n",
    "<h4 align=\"center\">\n",
    "    <img width=\"600px\" src=\"./img/PyTorch_TensorFlow.png\" alt=\"PyTorch и TensorFlow\" />\n",
    "</h4>"
   ]
  },
  {
   "cell_type": "markdown",
   "metadata": {},
   "source": [
    "### Установка PyTorch\n",
    "\n",
    "> CMD\n",
    ">\n",
    "> ```shell script\n",
    "> pip install torch torchvision\n",
    "> ```"
   ]
  },
  {
   "cell_type": "markdown",
   "metadata": {},
   "source": [
    "### Импорт необходимых инструментов"
   ]
  },
  {
   "cell_type": "code",
   "execution_count": 148,
   "metadata": {},
   "outputs": [],
   "source": [
    "import torch # Машинное обучение (Facebook)\n",
    "from torch import nn # Настраиваемые слои для моделей глубокого обучения\n",
    "\n",
    "import pandas as pd # Обработка и анализ данных\n",
    "import numpy as np # Научные вычисления"
   ]
  },
  {
   "cell_type": "markdown",
   "metadata": {},
   "source": [
    "### Версии необходимых библиотек"
   ]
  },
  {
   "cell_type": "code",
   "execution_count": 4,
   "metadata": {},
   "outputs": [
    {
     "data": {
      "text/html": [
       "<style  type=\"text/css\" >\n",
       "</style><table id=\"T_6c40e10e_0689_11eb_b571_acde48001122\" ><thead>    <tr>        <th class=\"col_heading level0 col0\" >Package</th>        <th class=\"col_heading level0 col1\" >Version</th>    </tr></thead><tbody>\n",
       "                <tr>\n",
       "                                <td id=\"T_6c40e10e_0689_11eb_b571_acde48001122row0_col0\" class=\"data row0 col0\" >PyTorch</td>\n",
       "                        <td id=\"T_6c40e10e_0689_11eb_b571_acde48001122row0_col1\" class=\"data row0 col1\" >1.6.0</td>\n",
       "            </tr>\n",
       "            <tr>\n",
       "                                <td id=\"T_6c40e10e_0689_11eb_b571_acde48001122row1_col0\" class=\"data row1 col0\" >NumPy</td>\n",
       "                        <td id=\"T_6c40e10e_0689_11eb_b571_acde48001122row1_col1\" class=\"data row1 col1\" >1.19.2</td>\n",
       "            </tr>\n",
       "            <tr>\n",
       "                                <td id=\"T_6c40e10e_0689_11eb_b571_acde48001122row2_col0\" class=\"data row2 col0\" >Pandas</td>\n",
       "                        <td id=\"T_6c40e10e_0689_11eb_b571_acde48001122row2_col1\" class=\"data row2 col1\" >1.1.2</td>\n",
       "            </tr>\n",
       "    </tbody></table>"
      ],
      "text/plain": [
       "<pandas.io.formats.style.Styler at 0x7fae2f75a710>"
      ]
     },
     "execution_count": 4,
     "metadata": {},
     "output_type": "execute_result"
    }
   ],
   "source": [
    "pkgs = {\n",
    "    'Package': ['PyTorch', 'NumPy', 'Pandas'],\n",
    "    'Version': [i.__version__ for i in [torch, np, pd]]}\n",
    "\n",
    "df_pkgs = pd.DataFrame(data = pkgs) # Версии используемых библиотек\n",
    "df_pkgs.head(None).style.hide_index() # Отображение первых N строк или все если указать None"
   ]
  },
  {
   "cell_type": "markdown",
   "metadata": {},
   "source": [
    "### Определение модели PyTorch (Линейная регрессия)"
   ]
  },
  {
   "cell_type": "code",
   "execution_count": 141,
   "metadata": {},
   "outputs": [],
   "source": [
    "# Линейная регрессия\n",
    "class LinearRegression(nn.Module):\n",
    "    # Конструктор\n",
    "    def __init__(self, n):\n",
    "        '''\n",
    "        n - количество входных данных\n",
    "        '''\n",
    "        super().__init__()\n",
    "        \n",
    "        # Определение архитектуры логистической регрессии\n",
    "        self.linear_reg = nn.Linear(n, 1)\n",
    "    \n",
    "    def forward(self, x):\n",
    "        '''\n",
    "        x - количество входных данных\n",
    "        '''\n",
    "        return self.linear_reg(x) # Логистическая регрессия"
   ]
  },
  {
   "cell_type": "code",
   "execution_count": 142,
   "metadata": {},
   "outputs": [
    {
     "data": {
      "image/png": "[encoded data removed]",
      "text/plain": [
       "<Figure size 432x288 with 1 Axes>"
      ]
     },
     "metadata": {
      "needs_background": "light"
     },
     "output_type": "display_data"
    }
   ],
   "source": [
    "# Набор данных\n",
    "xs = np.array([-1.0, 0.0, 1.0, 2.0, 3.0, 4.0], dtype = float).astype(np.float32) # X\n",
    "ys = np.array([-3.0, -1.0, 2.0, 3.0, 5.0, 7.0], dtype = float).astype(np.float32) # Y\n",
    "\n",
    "# Транспонирование\n",
    "xs = xs.reshape(-1, 1)\n",
    "ys = ys.reshape(-1, 1)\n",
    "\n",
    "plt.scatter(xs, ys, alpha = 0.5)\n",
    "plt.show()"
   ]
  },
  {
   "cell_type": "code",
   "execution_count": 151,
   "metadata": {},
   "outputs": [
    {
     "name": "stdout",
     "output_type": "stream",
     "text": [
      "Эпоха: 50, Loss: 0.44861093163490295\n",
      "Эпоха: 100, Loss: 0.24706487357616425\n",
      "Эпоха: 150, Loss: 0.17567378282546997\n",
      "Эпоха: 200, Loss: 0.15038278698921204\n",
      "Эпоха: 250, Loss: 0.14142325520515442\n",
      "Эпоха: 300, Loss: 0.1382492184638977\n",
      "Эпоха: 350, Loss: 0.13712482154369354\n",
      "Эпоха: 400, Loss: 0.1367264688014984\n",
      "Эпоха: 450, Loss: 0.13658533990383148\n",
      "Эпоха: 500, Loss: 0.13653536140918732\n"
     ]
    },
    {
     "data": {
      "image/png": "[encoded data removed]",
      "text/plain": [
       "<Figure size 432x288 with 1 Axes>"
      ]
     },
     "metadata": {
      "needs_background": "light"
     },
     "output_type": "display_data"
    },
    {
     "data": {
      "image/png": "[encoded data removed]",
      "text/plain": [
       "<Figure size 432x288 with 1 Axes>"
      ]
     },
     "metadata": {
      "needs_background": "light"
     },
     "output_type": "display_data"
    },
    {
     "data": {
      "text/plain": [
       "18.90852928161621"
      ]
     },
     "execution_count": 151,
     "metadata": {},
     "output_type": "execute_result"
    }
   ],
   "source": [
    "model = LinearRegression(xs.shape[1]) # Инициализация модели\n",
    "model.parameters()\n",
    "\n",
    "criterion = nn.MSELoss() # Функция стоимости модели\n",
    "optimizer = torch.optim.SGD(model.parameters(), lr = 0.01) # Оптимизатор\n",
    "\n",
    "n_epoch = 500 # Количество эпох\n",
    "loss_in_each_epoch = [] # Loss\n",
    "\n",
    "# Обучение модели\n",
    "for epoch in range(n_epoch):\n",
    "    epoch += 1\n",
    "    \n",
    "    # Преобразование numpy в torch\n",
    "    xst = torch.from_numpy(xs)\n",
    "    yst = torch.from_numpy(ys)\n",
    "    \n",
    "    optimizer.zero_grad() # Очистка градиентов от всех оптимизированных тензоров\n",
    "    y_pred = model(xst) # Предсказания модели\n",
    "    loss = criterion(y_pred, yst) # Функция потерь\n",
    "    loss.backward()\n",
    "    optimizer.step()\n",
    "    \n",
    "    # Loss\n",
    "    loss_in_each_epoch.append(loss.item())\n",
    "    \n",
    "    if (epoch) % 50 == 0:\n",
    "        print('Эпоха: {}, Loss: {}'.format(epoch, loss.item()))\n",
    "\n",
    "# Получение предсказаний\n",
    "predicted = model.forward(torch.from_numpy(xs)).cpu().data.numpy()\n",
    "\n",
    "plt.plot(xs, ys, 'ro', label = 'Тренировочные значения', alpha = 0.5)\n",
    "plt.plot(xs, predicted, label = 'Предсказания', alpha = 0.5)\n",
    "plt.legend()\n",
    "plt.show()\n",
    "\n",
    "# Всего эпох\n",
    "epoch = [i for i in range(1, n_epoch + 1)]\n",
    "\n",
    "plt.plot(epoch, loss_in_each_epoch)\n",
    "plt.title('Loss по эпохам')\n",
    "plt.xlabel('Эпохи')\n",
    "plt.ylabel('Loss')\n",
    "plt.show()\n",
    "\n",
    "# Тестовое значение\n",
    "x_test = torch.Tensor([[10.0]])\n",
    "\n",
    "predicted = model.forward((x_test))\n",
    "\n",
    "predicted.item()"
   ]
  },
  {
   "cell_type": "markdown",
   "metadata": {},
   "source": [
    "### Статья\n",
    "\n",
    "> [Состояние фреймворков машинного обучения в 2019 году](https://thegradient.pub/state-of-ml-frameworks-2019-pytorch-dominates-research-tensorflow-dominates-industry/)"
   ]
  },
  {
   "cell_type": "markdown",
   "metadata": {},
   "source": [
    "### Введение в PyTorch"
   ]
  },
  {
   "cell_type": "markdown",
   "metadata": {},
   "source": [
    "#### Формирование тензора"
   ]
  },
  {
   "cell_type": "code",
   "execution_count": 153,
   "metadata": {},
   "outputs": [
    {
     "data": {
      "text/plain": [
       "tensor([[[1., 2.],\n",
       "         [3., 4.]],\n",
       "\n",
       "        [[5., 6.],\n",
       "         [7., 8.]],\n",
       "\n",
       "        [[9., 0.],\n",
       "         [1., 2.]]])"
      ]
     },
     "execution_count": 153,
     "metadata": {},
     "output_type": "execute_result"
    }
   ],
   "source": [
    "tensor = torch.Tensor([\n",
    "    [[1, 2], [3, 4]], \n",
    "    [[5, 6], [7, 8]], \n",
    "    [[9, 0], [1, 2]]\n",
    "])\n",
    "\n",
    "tensor"
   ]
  },
  {
   "cell_type": "markdown",
   "metadata": {},
   "source": [
    "#### Просмотр устройства"
   ]
  },
  {
   "cell_type": "code",
   "execution_count": 154,
   "metadata": {},
   "outputs": [
    {
     "data": {
      "text/plain": [
       "device(type='cpu')"
      ]
     },
     "execution_count": 154,
     "metadata": {},
     "output_type": "execute_result"
    }
   ],
   "source": [
    "tensor.device"
   ]
  },
  {
   "cell_type": "markdown",
   "metadata": {},
   "source": [
    "#### Выполнение на другом устройстве (**cpu** или **cuda**)"
   ]
  },
  {
   "cell_type": "code",
   "execution_count": 157,
   "metadata": {},
   "outputs": [],
   "source": [
    "new_tensor = tensor.to('cpu') # Или cuda"
   ]
  },
  {
   "cell_type": "markdown",
   "metadata": {},
   "source": [
    "#### Просмотр измерения тензора"
   ]
  },
  {
   "cell_type": "code",
   "execution_count": 158,
   "metadata": {},
   "outputs": [
    {
     "data": {
      "text/plain": [
       "torch.Size([3, 2, 2])"
      ]
     },
     "execution_count": 158,
     "metadata": {},
     "output_type": "execute_result"
    }
   ],
   "source": [
    "tensor.shape"
   ]
  },
  {
   "cell_type": "code",
   "execution_count": 160,
   "metadata": {},
   "outputs": [
    {
     "name": "stdout",
     "output_type": "stream",
     "text": [
      "Ранг = 3\n",
      "Всего элементов в тензоре = 12\n"
     ]
    }
   ],
   "source": [
    "print('Ранг =', len(tensor.shape))\n",
    "print('Всего элементов в тензоре =', tensor.numel())"
   ]
  },
  {
   "cell_type": "markdown",
   "metadata": {},
   "source": [
    "#### Индексация тензора"
   ]
  },
  {
   "cell_type": "code",
   "execution_count": 161,
   "metadata": {},
   "outputs": [
    {
     "data": {
      "text/plain": [
       "tensor([[5., 6.],\n",
       "        [7., 8.]])"
      ]
     },
     "execution_count": 161,
     "metadata": {},
     "output_type": "execute_result"
    }
   ],
   "source": [
    "tensor[1] # Строка под индексом 1"
   ]
  },
  {
   "cell_type": "code",
   "execution_count": 163,
   "metadata": {},
   "outputs": [
    {
     "data": {
      "text/plain": [
       "tensor(7.)"
      ]
     },
     "execution_count": 163,
     "metadata": {},
     "output_type": "execute_result"
    }
   ],
   "source": [
    "tensor[1, 1, 0]"
   ]
  },
  {
   "cell_type": "code",
   "execution_count": 164,
   "metadata": {},
   "outputs": [
    {
     "data": {
      "text/plain": [
       "7.0"
      ]
     },
     "execution_count": 164,
     "metadata": {},
     "output_type": "execute_result"
    }
   ],
   "source": [
    "tensor[1, 1, 0].item() # Значение из тензора в формате Python"
   ]
  },
  {
   "cell_type": "code",
   "execution_count": 169,
   "metadata": {},
   "outputs": [
    {
     "data": {
      "text/plain": [
       "tensor([4., 8., 2.])"
      ]
     },
     "execution_count": 169,
     "metadata": {},
     "output_type": "execute_result"
    }
   ],
   "source": [
    "tensor[:, 1, 1] # Столбец"
   ]
  },
  {
   "cell_type": "markdown",
   "metadata": {},
   "source": [
    "#### Генерация тензора"
   ]
  },
  {
   "cell_type": "code",
   "execution_count": 172,
   "metadata": {},
   "outputs": [
    {
     "data": {
      "text/plain": [
       "tensor([[[1., 1.],\n",
       "         [1., 1.]],\n",
       "\n",
       "        [[1., 1.],\n",
       "         [1., 1.]],\n",
       "\n",
       "        [[1., 1.],\n",
       "         [1., 1.]]])"
      ]
     },
     "execution_count": 172,
     "metadata": {},
     "output_type": "execute_result"
    }
   ],
   "source": [
    "torch.ones_like(tensor) # Тензор заполненный единицами"
   ]
  },
  {
   "cell_type": "code",
   "execution_count": 173,
   "metadata": {},
   "outputs": [
    {
     "data": {
      "text/plain": [
       "tensor([[[0., 0.],\n",
       "         [0., 0.]],\n",
       "\n",
       "        [[0., 0.],\n",
       "         [0., 0.]],\n",
       "\n",
       "        [[0., 0.],\n",
       "         [0., 0.]]])"
      ]
     },
     "execution_count": 173,
     "metadata": {},
     "output_type": "execute_result"
    }
   ],
   "source": [
    "torch.zeros_like(tensor) # Тензор заполненный нулями"
   ]
  },
  {
   "cell_type": "code",
   "execution_count": 177,
   "metadata": {},
   "outputs": [
    {
     "data": {
      "text/plain": [
       "tensor([[[ 0.4212,  1.3086],\n",
       "         [ 1.5056, -1.2092]],\n",
       "\n",
       "        [[ 0.6977, -0.3684],\n",
       "         [ 0.7741, -0.1284]],\n",
       "\n",
       "        [[-1.9139, -2.0773],\n",
       "         [-0.0997,  1.7577]]])"
      ]
     },
     "execution_count": 177,
     "metadata": {},
     "output_type": "execute_result"
    }
   ],
   "source": [
    "torch.randn_like(tensor) # Тензор с нормальным Гауссовским распределением"
   ]
  },
  {
   "cell_type": "code",
   "execution_count": 178,
   "metadata": {},
   "outputs": [
    {
     "data": {
      "text/plain": [
       "tensor([[ 0.9143, -1.8423],\n",
       "        [ 2.1746, -0.7340]])"
      ]
     },
     "execution_count": 178,
     "metadata": {},
     "output_type": "execute_result"
    }
   ],
   "source": [
    "torch.randn(2, 2, device = 'cpu') # Тензор с нормальным Гауссовским распределением"
   ]
  },
  {
   "cell_type": "markdown",
   "metadata": {},
   "source": [
    "### Введение в GAN"
   ]
  },
  {
   "cell_type": "markdown",
   "metadata": {},
   "source": [
    "#### Дискриминатор против генератора\n",
    "\n",
    "> Два основных компонента GAN это **генератор** и **дискриминатор**\n",
    "\n",
    "##### Дискриминатор (классификатор)\n",
    "\n",
    "> Одним из наиболее используемых типов моделей машинного обучения является классификатор, который используется для сортировки элементов в наборе данных и классификации их по различным категориям. Например, классификатор изображений, который может различать изображения кошек или собак.\n",
    "\n",
    "<h4 align=\"center\">\n",
    "    <img width=\"600px\" src=\"./img/classificator.gif\" alt=\"Дискриминатор\" />\n",
    "</h4>\n",
    "\n",
    "> С точки зрения теории вероятности классификатор хочет вычислить $p(y|x)$, тоесть вероятность того, что при вводе $x$, необходимо узнать вероятность его класса $y$, которая является котом $p(y=\\text{кошка}|x)$ или собакой $p(y=\\text{собака}|x)$.\n",
    ">\n",
    "> Дискриминатор - это просто классификатор с двумя классами: настоящий и поддельный. Учитывая входное $x$ дискриминатор вычислит вероятности $p(настоящий|x)$ и $p(подделка|x)$ и в конечном итоге классифицирует $x$. Входной $x$ не ограничивается изображениями и может быть всем чем угодно. GAN можно обучить работе с видео, текстом, аудио и т.д.\n",
    "\n",
    "##### Генератор\n",
    "\n",
    "> С точки зрения теории вероятности генератор хочет вычислить $p(x|y)$, тоесть вероятность того, на сколько созданный им $(y=\\text{объект})$ похож на оригинальный $x$.\n",
    ">\n",
    "> На примере видно, как генератор пытается найти особенности, которые представляют всех кошек, используя обратную связь от дискриминатора.\n",
    "\n",
    "<h4 align=\"center\">\n",
    "    <img width=\"600px\" src=\"./img/gan2.png\" alt=\"Генератор\" />\n",
    "</h4>"
   ]
  },
  {
   "cell_type": "markdown",
   "metadata": {},
   "source": [
    "### StyleGAN"
   ]
  },
  {
   "cell_type": "code",
   "execution_count": 206,
   "metadata": {},
   "outputs": [
    {
     "name": "stdout",
     "output_type": "stream",
     "text": [
      "fatal: целевой путь «stylegan» уже существует и не является пустым каталогом.\n"
     ]
    }
   ],
   "source": [
    "# Клонирование StyleGAN\n",
    "!git clone https://github.com/DmitryRyumin/stylegan.git"
   ]
  },
  {
   "cell_type": "code",
   "execution_count": 3,
   "metadata": {},
   "outputs": [
    {
     "name": "stdout",
     "output_type": "stream",
     "text": [
      "Collecting tensorflow==1.15.4\n",
      "  Downloading tensorflow-1.15.4-cp37-cp37m-macosx_10_9_x86_64.whl (123.3 MB)\n",
      "\u001b[K     |████████████████████████████████| 123.3 MB 3.2 MB/s eta 0:00:01\n",
      "\u001b[?25hRequirement already satisfied: wheel>=0.26; python_version >= \"3\" in /Users/dl/Desktop/Programming/Python/env/Coursera/lib/python3.7/site-packages (from tensorflow==1.15.4) (0.35.1)\n",
      "Requirement already satisfied: six>=1.10.0 in /Users/dl/Desktop/Programming/Python/env/Coursera/lib/python3.7/site-packages (from tensorflow==1.15.4) (1.15.0)\n",
      "Collecting keras-applications>=1.0.8\n",
      "  Downloading Keras_Applications-1.0.8-py3-none-any.whl (50 kB)\n",
      "\u001b[K     |████████████████████████████████| 50 kB 4.5 MB/s eta 0:00:01\n",
      "\u001b[?25hRequirement already satisfied: keras-preprocessing>=1.0.5 in /Users/dl/Desktop/Programming/Python/env/Coursera/lib/python3.7/site-packages (from tensorflow==1.15.4) (1.1.2)\n",
      "Collecting gast==0.2.2\n",
      "  Downloading gast-0.2.2.tar.gz (10 kB)\n",
      "Requirement already satisfied: google-pasta>=0.1.6 in /Users/dl/Desktop/Programming/Python/env/Coursera/lib/python3.7/site-packages (from tensorflow==1.15.4) (0.2.0)\n",
      "Requirement already satisfied: absl-py>=0.7.0 in /Users/dl/Desktop/Programming/Python/env/Coursera/lib/python3.7/site-packages (from tensorflow==1.15.4) (0.10.0)\n",
      "Collecting tensorboard<1.16.0,>=1.15.0\n",
      "  Downloading tensorboard-1.15.0-py3-none-any.whl (3.8 MB)\n",
      "\u001b[K     |████████████████████████████████| 3.8 MB 2.6 MB/s eta 0:00:01\n",
      "\u001b[?25hRequirement already satisfied: opt-einsum>=2.3.2 in /Users/dl/Desktop/Programming/Python/env/Coursera/lib/python3.7/site-packages (from tensorflow==1.15.4) (3.3.0)\n",
      "Requirement already satisfied: termcolor>=1.1.0 in /Users/dl/Desktop/Programming/Python/env/Coursera/lib/python3.7/site-packages (from tensorflow==1.15.4) (1.1.0)\n",
      "Requirement already satisfied: grpcio>=1.8.6 in /Users/dl/Desktop/Programming/Python/env/Coursera/lib/python3.7/site-packages (from tensorflow==1.15.4) (1.32.0)\n",
      "Requirement already satisfied: wrapt>=1.11.1 in /Users/dl/Desktop/Programming/Python/env/Coursera/lib/python3.7/site-packages (from tensorflow==1.15.4) (1.12.1)\n",
      "Requirement already satisfied: numpy<1.19.0,>=1.16.0 in /Users/dl/Desktop/Programming/Python/env/Coursera/lib/python3.7/site-packages (from tensorflow==1.15.4) (1.18.5)\n",
      "Requirement already satisfied: protobuf>=3.6.1 in /Users/dl/Desktop/Programming/Python/env/Coursera/lib/python3.7/site-packages (from tensorflow==1.15.4) (3.13.0)\n",
      "Collecting astor>=0.6.0\n",
      "  Downloading astor-0.8.1-py2.py3-none-any.whl (27 kB)\n",
      "Collecting tensorflow-estimator==1.15.1\n",
      "  Downloading tensorflow_estimator-1.15.1-py2.py3-none-any.whl (503 kB)\n",
      "\u001b[K     |████████████████████████████████| 503 kB 3.2 MB/s eta 0:00:01\n",
      "\u001b[?25hRequirement already satisfied: h5py in /Users/dl/Desktop/Programming/Python/env/Coursera/lib/python3.7/site-packages (from keras-applications>=1.0.8->tensorflow==1.15.4) (2.10.0)\n",
      "Requirement already satisfied: markdown>=2.6.8 in /Users/dl/Desktop/Programming/Python/env/Coursera/lib/python3.7/site-packages (from tensorboard<1.16.0,>=1.15.0->tensorflow==1.15.4) (3.3)\n",
      "Requirement already satisfied: setuptools>=41.0.0 in /Users/dl/Desktop/Programming/Python/env/Coursera/lib/python3.7/site-packages (from tensorboard<1.16.0,>=1.15.0->tensorflow==1.15.4) (50.3.0)\n",
      "Requirement already satisfied: werkzeug>=0.11.15 in /Users/dl/Desktop/Programming/Python/env/Coursera/lib/python3.7/site-packages (from tensorboard<1.16.0,>=1.15.0->tensorflow==1.15.4) (1.0.1)\n",
      "Requirement already satisfied: importlib-metadata; python_version < \"3.8\" in /Users/dl/Desktop/Programming/Python/env/Coursera/lib/python3.7/site-packages (from markdown>=2.6.8->tensorboard<1.16.0,>=1.15.0->tensorflow==1.15.4) (2.0.0)\n",
      "Requirement already satisfied: zipp>=0.5 in /Users/dl/Desktop/Programming/Python/env/Coursera/lib/python3.7/site-packages (from importlib-metadata; python_version < \"3.8\"->markdown>=2.6.8->tensorboard<1.16.0,>=1.15.0->tensorflow==1.15.4) (3.3.0)\n",
      "Building wheels for collected packages: gast\n",
      "  Building wheel for gast (setup.py) ... \u001b[?25ldone\n",
      "\u001b[?25h  Created wheel for gast: filename=gast-0.2.2-py3-none-any.whl size=7540 sha256=6a225b19c368a25176291d767f8c9bc648c710d4e7d013d9c3b83ac1dced02f2\n",
      "  Stored in directory: /Users/dl/Library/Caches/pip/wheels/21/7f/02/420f32a803f7d0967b48dd823da3f558c5166991bfd204eef3\n",
      "Successfully built gast\n",
      "Installing collected packages: keras-applications, gast, tensorboard, astor, tensorflow-estimator, tensorflow\n",
      "  Attempting uninstall: gast\n",
      "    Found existing installation: gast 0.3.3\n",
      "    Uninstalling gast-0.3.3:\n",
      "      Successfully uninstalled gast-0.3.3\n",
      "  Attempting uninstall: tensorboard\n",
      "    Found existing installation: tensorboard 2.3.0\n",
      "    Uninstalling tensorboard-2.3.0:\n",
      "      Successfully uninstalled tensorboard-2.3.0\n",
      "  Attempting uninstall: tensorflow-estimator\n",
      "    Found existing installation: tensorflow-estimator 2.3.0\n",
      "    Uninstalling tensorflow-estimator-2.3.0:\n",
      "      Successfully uninstalled tensorflow-estimator-2.3.0\n",
      "  Attempting uninstall: tensorflow\n",
      "    Found existing installation: tensorflow 2.3.1\n",
      "    Uninstalling tensorflow-2.3.1:\n",
      "      Successfully uninstalled tensorflow-2.3.1\n",
      "Successfully installed astor-0.8.1 gast-0.2.2 keras-applications-1.0.8 tensorboard-1.15.0 tensorflow-1.15.4 tensorflow-estimator-1.15.1\n"
     ]
    }
   ],
   "source": [
    "# Установка версии tensorflow для StyleGAN\n",
    "!pip install tensorflow==1.15.4"
   ]
  },
  {
   "cell_type": "code",
   "execution_count": 1,
   "metadata": {},
   "outputs": [],
   "source": [
    "import sys\n",
    "sys.path.append(r'stylegan')\n",
    "\n",
    "import tensorflow as tf # Машинное обучение\n",
    "import logging # Система регистрации событий для библиотек\n",
    "# Уровень регистрации событий, только ошибки\n",
    "tf.get_logger().setLevel(logging.ERROR)\n",
    "\n",
    "import os # Взаимодействие с файловой системой\n",
    "import pickle # Сериализация объектов Python\n",
    "import numpy as np # Научные вычисления\n",
    "import PIL.Image # Работа с изображениями\n",
    "import stylegan # StyleGAN - официальная реализация TensorFlow\n",
    "from stylegan import dnnlib\n",
    "from stylegan import config # Файл конфигурации\n",
    "from stylegan.dnnlib import tflib\n",
    "from tensorflow.python.util import module_wrapper\n",
    "module_wrapper._PER_MODULE_WARNING_LIMIT = 0\n",
    "\n",
    "# Инициализация TensorFlow\n",
    "tflib.init_tf()\n",
    "\n",
    "# Загрузка модели\n",
    "url = 'https://files.sberdisk.ru/s/MTgP2retx6Wzxe4/download'\n",
    "\n",
    "with stylegan.dnnlib.util.open_url(url, cache_dir = config.cache_dir) as f:\n",
    "    _G, _D, Gs = pickle.load(f)\n",
    "#     Gs.print_layers()"
   ]
  },
  {
   "cell_type": "code",
   "execution_count": 2,
   "metadata": {},
   "outputs": [
    {
     "name": "stdout",
     "output_type": "stream",
     "text": [
      "Noise vector has size 512\n"
     ]
    },
    {
     "ename": "InvalidArgumentError",
     "evalue": "Cannot assign a device for operation Gs/_Run/Gs/latents_in: node Gs/_Run/Gs/latents_in (defined at /Users/dl/Desktop/Programming/Python/env/Coursera/lib/python3.7/site-packages/tensorflow_core/python/framework/ops.py:1748)  was explicitly assigned to /device:GPU:0 but available devices are [ /job:localhost/replica:0/task:0/device:CPU:0, /job:localhost/replica:0/task:0/device:XLA_CPU:0 ]. Make sure the device specification refers to a valid device. The requested device appears to be a GPU, but CUDA is not enabled.\n\t [[Gs/_Run/Gs/latents_in]]",
     "output_type": "error",
     "traceback": [
      "\u001b[0;31m---------------------------------------------------------------------------\u001b[0m",
      "\u001b[0;31mInvalidArgumentError\u001b[0m                      Traceback (most recent call last)",
      "\u001b[0;32m~/Desktop/Programming/Python/env/Coursera/lib/python3.7/site-packages/tensorflow_core/python/client/session.py\u001b[0m in \u001b[0;36m_do_call\u001b[0;34m(self, fn, *args)\u001b[0m\n\u001b[1;32m   1364\u001b[0m     \u001b[0;32mtry\u001b[0m\u001b[0;34m:\u001b[0m\u001b[0;34m\u001b[0m\u001b[0;34m\u001b[0m\u001b[0m\n\u001b[0;32m-> 1365\u001b[0;31m       \u001b[0;32mreturn\u001b[0m \u001b[0mfn\u001b[0m\u001b[0;34m(\u001b[0m\u001b[0;34m*\u001b[0m\u001b[0margs\u001b[0m\u001b[0;34m)\u001b[0m\u001b[0;34m\u001b[0m\u001b[0;34m\u001b[0m\u001b[0m\n\u001b[0m\u001b[1;32m   1366\u001b[0m     \u001b[0;32mexcept\u001b[0m \u001b[0merrors\u001b[0m\u001b[0;34m.\u001b[0m\u001b[0mOpError\u001b[0m \u001b[0;32mas\u001b[0m \u001b[0me\u001b[0m\u001b[0;34m:\u001b[0m\u001b[0;34m\u001b[0m\u001b[0;34m\u001b[0m\u001b[0m\n",
      "\u001b[0;32m~/Desktop/Programming/Python/env/Coursera/lib/python3.7/site-packages/tensorflow_core/python/client/session.py\u001b[0m in \u001b[0;36m_run_fn\u001b[0;34m(feed_dict, fetch_list, target_list, options, run_metadata)\u001b[0m\n\u001b[1;32m   1349\u001b[0m       return self._call_tf_sessionrun(options, feed_dict, fetch_list,\n\u001b[0;32m-> 1350\u001b[0;31m                                       target_list, run_metadata)\n\u001b[0m\u001b[1;32m   1351\u001b[0m \u001b[0;34m\u001b[0m\u001b[0m\n",
      "\u001b[0;32m~/Desktop/Programming/Python/env/Coursera/lib/python3.7/site-packages/tensorflow_core/python/client/session.py\u001b[0m in \u001b[0;36m_call_tf_sessionrun\u001b[0;34m(self, options, feed_dict, fetch_list, target_list, run_metadata)\u001b[0m\n\u001b[1;32m   1442\u001b[0m                                             \u001b[0mfetch_list\u001b[0m\u001b[0;34m,\u001b[0m \u001b[0mtarget_list\u001b[0m\u001b[0;34m,\u001b[0m\u001b[0;34m\u001b[0m\u001b[0;34m\u001b[0m\u001b[0m\n\u001b[0;32m-> 1443\u001b[0;31m                                             run_metadata)\n\u001b[0m\u001b[1;32m   1444\u001b[0m \u001b[0;34m\u001b[0m\u001b[0m\n",
      "\u001b[0;31mInvalidArgumentError\u001b[0m: Cannot assign a device for operation Gs/_Run/Gs/latents_in: {{node Gs/_Run/Gs/latents_in}} was explicitly assigned to /device:GPU:0 but available devices are [ /job:localhost/replica:0/task:0/device:CPU:0, /job:localhost/replica:0/task:0/device:XLA_CPU:0 ]. Make sure the device specification refers to a valid device. The requested device appears to be a GPU, but CUDA is not enabled.\n\t [[Gs/_Run/Gs/latents_in]]",
      "\nDuring handling of the above exception, another exception occurred:\n",
      "\u001b[0;31mInvalidArgumentError\u001b[0m                      Traceback (most recent call last)",
      "\u001b[0;32m<ipython-input-2-77d879ba3077>\u001b[0m in \u001b[0;36m<module>\u001b[0;34m\u001b[0m\n\u001b[1;32m     19\u001b[0m                 \u001b[0mtruncation_psi\u001b[0m\u001b[0;34m=\u001b[0m\u001b[0mtruncation\u001b[0m\u001b[0;34m,\u001b[0m\u001b[0;34m\u001b[0m\u001b[0;34m\u001b[0m\u001b[0m\n\u001b[1;32m     20\u001b[0m                 \u001b[0mrandomize_noise\u001b[0m\u001b[0;34m=\u001b[0m\u001b[0;32mFalse\u001b[0m\u001b[0;34m,\u001b[0m\u001b[0;34m\u001b[0m\u001b[0;34m\u001b[0m\u001b[0m\n\u001b[0;32m---> 21\u001b[0;31m                 \u001b[0moutput_transform\u001b[0m\u001b[0;34m=\u001b[0m\u001b[0mfmt\u001b[0m\u001b[0;34m\u001b[0m\u001b[0;34m\u001b[0m\u001b[0m\n\u001b[0m\u001b[1;32m     22\u001b[0m                 )\n\u001b[1;32m     23\u001b[0m \u001b[0;34m\u001b[0m\u001b[0m\n",
      "\u001b[0;32m~/GitHub/coursera/Generative_Adversarial_Networks_(GANs)/Build_Basic_Generative_Adversarial Networks_(GANs)/stylegan/dnnlib/tflib/network.py\u001b[0m in \u001b[0;36mrun\u001b[0;34m(self, input_transform, output_transform, return_as_list, print_progress, minibatch_size, num_gpus, assume_frozen, *in_arrays, **dynamic_kwargs)\u001b[0m\n\u001b[1;32m    441\u001b[0m             \u001b[0mmb_num\u001b[0m \u001b[0;34m=\u001b[0m \u001b[0mmb_end\u001b[0m \u001b[0;34m-\u001b[0m \u001b[0mmb_begin\u001b[0m\u001b[0;34m\u001b[0m\u001b[0;34m\u001b[0m\u001b[0m\n\u001b[1;32m    442\u001b[0m             \u001b[0mmb_in\u001b[0m \u001b[0;34m=\u001b[0m \u001b[0;34m[\u001b[0m\u001b[0msrc\u001b[0m\u001b[0;34m[\u001b[0m\u001b[0mmb_begin\u001b[0m \u001b[0;34m:\u001b[0m \u001b[0mmb_end\u001b[0m\u001b[0;34m]\u001b[0m \u001b[0;32mif\u001b[0m \u001b[0msrc\u001b[0m \u001b[0;32mis\u001b[0m \u001b[0;32mnot\u001b[0m \u001b[0;32mNone\u001b[0m \u001b[0;32melse\u001b[0m \u001b[0mnp\u001b[0m\u001b[0;34m.\u001b[0m\u001b[0mzeros\u001b[0m\u001b[0;34m(\u001b[0m\u001b[0;34m[\u001b[0m\u001b[0mmb_num\u001b[0m\u001b[0;34m]\u001b[0m \u001b[0;34m+\u001b[0m \u001b[0mshape\u001b[0m\u001b[0;34m[\u001b[0m\u001b[0;36m1\u001b[0m\u001b[0;34m:\u001b[0m\u001b[0;34m]\u001b[0m\u001b[0;34m)\u001b[0m \u001b[0;32mfor\u001b[0m \u001b[0msrc\u001b[0m\u001b[0;34m,\u001b[0m \u001b[0mshape\u001b[0m \u001b[0;32min\u001b[0m \u001b[0mzip\u001b[0m\u001b[0;34m(\u001b[0m\u001b[0min_arrays\u001b[0m\u001b[0;34m,\u001b[0m \u001b[0mself\u001b[0m\u001b[0;34m.\u001b[0m\u001b[0minput_shapes\u001b[0m\u001b[0;34m)\u001b[0m\u001b[0;34m]\u001b[0m\u001b[0;34m\u001b[0m\u001b[0;34m\u001b[0m\u001b[0m\n\u001b[0;32m--> 443\u001b[0;31m             \u001b[0mmb_out\u001b[0m \u001b[0;34m=\u001b[0m \u001b[0mtf\u001b[0m\u001b[0;34m.\u001b[0m\u001b[0mget_default_session\u001b[0m\u001b[0;34m(\u001b[0m\u001b[0;34m)\u001b[0m\u001b[0;34m.\u001b[0m\u001b[0mrun\u001b[0m\u001b[0;34m(\u001b[0m\u001b[0mout_expr\u001b[0m\u001b[0;34m,\u001b[0m \u001b[0mdict\u001b[0m\u001b[0;34m(\u001b[0m\u001b[0mzip\u001b[0m\u001b[0;34m(\u001b[0m\u001b[0min_expr\u001b[0m\u001b[0;34m,\u001b[0m \u001b[0mmb_in\u001b[0m\u001b[0;34m)\u001b[0m\u001b[0;34m)\u001b[0m\u001b[0;34m)\u001b[0m\u001b[0;34m\u001b[0m\u001b[0;34m\u001b[0m\u001b[0m\n\u001b[0m\u001b[1;32m    444\u001b[0m \u001b[0;34m\u001b[0m\u001b[0m\n\u001b[1;32m    445\u001b[0m             \u001b[0;32mfor\u001b[0m \u001b[0mdst\u001b[0m\u001b[0;34m,\u001b[0m \u001b[0msrc\u001b[0m \u001b[0;32min\u001b[0m \u001b[0mzip\u001b[0m\u001b[0;34m(\u001b[0m\u001b[0mout_arrays\u001b[0m\u001b[0;34m,\u001b[0m \u001b[0mmb_out\u001b[0m\u001b[0;34m)\u001b[0m\u001b[0;34m:\u001b[0m\u001b[0;34m\u001b[0m\u001b[0;34m\u001b[0m\u001b[0m\n",
      "\u001b[0;32m~/Desktop/Programming/Python/env/Coursera/lib/python3.7/site-packages/tensorflow_core/python/client/session.py\u001b[0m in \u001b[0;36mrun\u001b[0;34m(self, fetches, feed_dict, options, run_metadata)\u001b[0m\n\u001b[1;32m    954\u001b[0m     \u001b[0;32mtry\u001b[0m\u001b[0;34m:\u001b[0m\u001b[0;34m\u001b[0m\u001b[0;34m\u001b[0m\u001b[0m\n\u001b[1;32m    955\u001b[0m       result = self._run(None, fetches, feed_dict, options_ptr,\n\u001b[0;32m--> 956\u001b[0;31m                          run_metadata_ptr)\n\u001b[0m\u001b[1;32m    957\u001b[0m       \u001b[0;32mif\u001b[0m \u001b[0mrun_metadata\u001b[0m\u001b[0;34m:\u001b[0m\u001b[0;34m\u001b[0m\u001b[0;34m\u001b[0m\u001b[0m\n\u001b[1;32m    958\u001b[0m         \u001b[0mproto_data\u001b[0m \u001b[0;34m=\u001b[0m \u001b[0mtf_session\u001b[0m\u001b[0;34m.\u001b[0m\u001b[0mTF_GetBuffer\u001b[0m\u001b[0;34m(\u001b[0m\u001b[0mrun_metadata_ptr\u001b[0m\u001b[0;34m)\u001b[0m\u001b[0;34m\u001b[0m\u001b[0;34m\u001b[0m\u001b[0m\n",
      "\u001b[0;32m~/Desktop/Programming/Python/env/Coursera/lib/python3.7/site-packages/tensorflow_core/python/client/session.py\u001b[0m in \u001b[0;36m_run\u001b[0;34m(self, handle, fetches, feed_dict, options, run_metadata)\u001b[0m\n\u001b[1;32m   1178\u001b[0m     \u001b[0;32mif\u001b[0m \u001b[0mfinal_fetches\u001b[0m \u001b[0;32mor\u001b[0m \u001b[0mfinal_targets\u001b[0m \u001b[0;32mor\u001b[0m \u001b[0;34m(\u001b[0m\u001b[0mhandle\u001b[0m \u001b[0;32mand\u001b[0m \u001b[0mfeed_dict_tensor\u001b[0m\u001b[0;34m)\u001b[0m\u001b[0;34m:\u001b[0m\u001b[0;34m\u001b[0m\u001b[0;34m\u001b[0m\u001b[0m\n\u001b[1;32m   1179\u001b[0m       results = self._do_run(handle, final_targets, final_fetches,\n\u001b[0;32m-> 1180\u001b[0;31m                              feed_dict_tensor, options, run_metadata)\n\u001b[0m\u001b[1;32m   1181\u001b[0m     \u001b[0;32melse\u001b[0m\u001b[0;34m:\u001b[0m\u001b[0;34m\u001b[0m\u001b[0;34m\u001b[0m\u001b[0m\n\u001b[1;32m   1182\u001b[0m       \u001b[0mresults\u001b[0m \u001b[0;34m=\u001b[0m \u001b[0;34m[\u001b[0m\u001b[0;34m]\u001b[0m\u001b[0;34m\u001b[0m\u001b[0;34m\u001b[0m\u001b[0m\n",
      "\u001b[0;32m~/Desktop/Programming/Python/env/Coursera/lib/python3.7/site-packages/tensorflow_core/python/client/session.py\u001b[0m in \u001b[0;36m_do_run\u001b[0;34m(self, handle, target_list, fetch_list, feed_dict, options, run_metadata)\u001b[0m\n\u001b[1;32m   1357\u001b[0m     \u001b[0;32mif\u001b[0m \u001b[0mhandle\u001b[0m \u001b[0;32mis\u001b[0m \u001b[0;32mNone\u001b[0m\u001b[0;34m:\u001b[0m\u001b[0;34m\u001b[0m\u001b[0;34m\u001b[0m\u001b[0m\n\u001b[1;32m   1358\u001b[0m       return self._do_call(_run_fn, feeds, fetches, targets, options,\n\u001b[0;32m-> 1359\u001b[0;31m                            run_metadata)\n\u001b[0m\u001b[1;32m   1360\u001b[0m     \u001b[0;32melse\u001b[0m\u001b[0;34m:\u001b[0m\u001b[0;34m\u001b[0m\u001b[0;34m\u001b[0m\u001b[0m\n\u001b[1;32m   1361\u001b[0m       \u001b[0;32mreturn\u001b[0m \u001b[0mself\u001b[0m\u001b[0;34m.\u001b[0m\u001b[0m_do_call\u001b[0m\u001b[0;34m(\u001b[0m\u001b[0m_prun_fn\u001b[0m\u001b[0;34m,\u001b[0m \u001b[0mhandle\u001b[0m\u001b[0;34m,\u001b[0m \u001b[0mfeeds\u001b[0m\u001b[0;34m,\u001b[0m \u001b[0mfetches\u001b[0m\u001b[0;34m)\u001b[0m\u001b[0;34m\u001b[0m\u001b[0;34m\u001b[0m\u001b[0m\n",
      "\u001b[0;32m~/Desktop/Programming/Python/env/Coursera/lib/python3.7/site-packages/tensorflow_core/python/client/session.py\u001b[0m in \u001b[0;36m_do_call\u001b[0;34m(self, fn, *args)\u001b[0m\n\u001b[1;32m   1382\u001b[0m                     \u001b[0;34m'\\nsession_config.graph_options.rewrite_options.'\u001b[0m\u001b[0;34m\u001b[0m\u001b[0;34m\u001b[0m\u001b[0m\n\u001b[1;32m   1383\u001b[0m                     'disable_meta_optimizer = True')\n\u001b[0;32m-> 1384\u001b[0;31m       \u001b[0;32mraise\u001b[0m \u001b[0mtype\u001b[0m\u001b[0;34m(\u001b[0m\u001b[0me\u001b[0m\u001b[0;34m)\u001b[0m\u001b[0;34m(\u001b[0m\u001b[0mnode_def\u001b[0m\u001b[0;34m,\u001b[0m \u001b[0mop\u001b[0m\u001b[0;34m,\u001b[0m \u001b[0mmessage\u001b[0m\u001b[0;34m)\u001b[0m\u001b[0;34m\u001b[0m\u001b[0;34m\u001b[0m\u001b[0m\n\u001b[0m\u001b[1;32m   1385\u001b[0m \u001b[0;34m\u001b[0m\u001b[0m\n\u001b[1;32m   1386\u001b[0m   \u001b[0;32mdef\u001b[0m \u001b[0m_extend_graph\u001b[0m\u001b[0;34m(\u001b[0m\u001b[0mself\u001b[0m\u001b[0;34m)\u001b[0m\u001b[0;34m:\u001b[0m\u001b[0;34m\u001b[0m\u001b[0;34m\u001b[0m\u001b[0m\n",
      "\u001b[0;31mInvalidArgumentError\u001b[0m: Cannot assign a device for operation Gs/_Run/Gs/latents_in: node Gs/_Run/Gs/latents_in (defined at /Users/dl/Desktop/Programming/Python/env/Coursera/lib/python3.7/site-packages/tensorflow_core/python/framework/ops.py:1748)  was explicitly assigned to /device:GPU:0 but available devices are [ /job:localhost/replica:0/task:0/device:CPU:0, /job:localhost/replica:0/task:0/device:XLA_CPU:0 ]. Make sure the device specification refers to a valid device. The requested device appears to be a GPU, but CUDA is not enabled.\n\t [[Gs/_Run/Gs/latents_in]]"
     ]
    }
   ],
   "source": [
    "# Set the random seed that generates the noise vectors\n",
    "rnd = np.random.RandomState(42)\n",
    "\n",
    "# Set the number of images to generate\n",
    "batch_size = 4\n",
    "\n",
    "# Set the truncation value for truncation trick sampling\n",
    "truncation = 0.7\n",
    "\n",
    "# Create a noise vector z for each sample in the batch: (batch_size, z_dim)\n",
    "z_dim = Gs.input_shape[1] # StyleGAN authors use the image dim (512) as the size of z\n",
    "print(f'Noise vector has size {z_dim}')\n",
    "noise_vectors = rnd.randn(batch_size, z_dim)\n",
    "\n",
    "# Generate image by running (sampling) the generator\n",
    "fmt = dict(func=tflib.convert_images_to_uint8, nchw_to_nhwc=True) # Specify the desired output format and shape\n",
    "images = Gs.run(noise_vectors,\n",
    "                None,    # No labels/conditions because it is unconditional generation (more on this in the coming lectures)\n",
    "                truncation_psi=truncation, \n",
    "                randomize_noise=False,\n",
    "                output_transform=fmt\n",
    "                )\n",
    "\n",
    "# Display images\n",
    "if batch_size > 1:\n",
    "    img = np.concatenate(images, axis=1) # Save all images in batch to a single image\n",
    "else:\n",
    "    img = images[0]\n",
    "PIL.Image.fromarray(img, 'RGB')"
   ]
  },
  {
   "cell_type": "code",
   "execution_count": null,
   "metadata": {},
   "outputs": [],
   "source": []
  }
 ],
 "metadata": {
  "kernelspec": {
   "display_name": "Python 3",
   "language": "python",
   "name": "python3"
  },
  "language_info": {
   "codemirror_mode": {
    "name": "ipython",
    "version": 3
   },
   "file_extension": ".py",
   "mimetype": "text/x-python",
   "name": "python",
   "nbconvert_exporter": "python",
   "pygments_lexer": "ipython3",
   "version": "3.7.9"
  }
 },
 "nbformat": 4,
 "nbformat_minor": 4
}
