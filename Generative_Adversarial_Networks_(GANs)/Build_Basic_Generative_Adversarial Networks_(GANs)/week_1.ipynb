{
 "cells": [
  {
   "cell_type": "markdown",
   "metadata": {},
   "source": [
    "## Создание базовых генеративно-созтязательных сетей (GAN)\n",
    "\n",
    "> Неделя 1 (Введение в GAN)\n",
    "\n",
    "<hr>"
   ]
  },
  {
   "cell_type": "markdown",
   "metadata": {},
   "source": [
    "### Разновидности моделей в машинном обучении\n",
    "\n",
    "> - Дискриминативные модели - используются для классификации (например, различие между кошками и собаками)\n",
    "> - **Генеративные модели** - пытаются узнать как сделать реалистичное представление некоторого класса (например, представление собаки)\n",
    "\n",
    "<h4 align=\"center\">\n",
    "    <img width=\"600px\" src=\"./img/discriminative_and_generative_models.png\" alt=\"Дискриминативные и генеративные модели\" />\n",
    "</h4>"
   ]
  },
  {
   "cell_type": "markdown",
   "metadata": {},
   "source": [
    "### Типы генеративных моделей\n",
    "\n",
    "- Вариационные автоэнкодеры (VAE)\n",
    "\n",
    "<h4 align=\"center\">\n",
    "    <img width=\"600px\" src=\"./img/vae_schema.jpg\" alt=\"VAE\" />\n",
    "</h4>\n",
    "\n",
    "- **Генеративно-состязательные сети (GAN)**\n",
    "\n",
    "<h4 align=\"center\">\n",
    "    <img width=\"600px\" src=\"./img/gan_schema.png\" alt=\"GAN\" />\n",
    "</h4>\n",
    "\n",
    "<h4 align=\"center\">\n",
    "    <img width=\"600px\" src=\"./img/gan_schema_in_detail.png\" alt=\"Detail GAN\" />\n",
    "</h4>\n",
    "\n",
    "<h4 align=\"center\">\n",
    "    <img width=\"300px\" src=\"./img/gan_schema_in_detail_2.png\" alt=\"Detail GAN\" />\n",
    "</h4>"
   ]
  },
  {
   "cell_type": "markdown",
   "metadata": {},
   "source": [
    "### Эволюция GAN\n",
    "\n",
    "> GAN существуют с 2014 года (см. [Generative Adversarial Networks](https://arxiv.org/abs/1406.2661)), однако уже достигли впечатляющей производительности при выполнении множества задач (см. [StyleGAN2](https://www.thispersondoesnotexist.com/)).\n",
    "\n",
    "<h4 align=\"center\">\n",
    "    <img width=\"600px\" src=\"./img/evolution_gan.jpg\" alt=\"Эволюция GAN\" />\n",
    "</h4>\n",
    "\n",
    "> GAN могут учиться на любых данных, которые им предоставлены."
   ]
  },
  {
   "cell_type": "markdown",
   "metadata": {},
   "source": [
    "### Логика GAN\n",
    "\n",
    "> GAN - это мощные модели способные учиться создавать реалистичные объекты, которые будут трудно отличить от существующих реальных (например, человеческие лица). GAN состоят из генератора и дискриминатора, которые конкурируют между собой.\n",
    ">\n",
    "> - Генератор (подделыватель картин) учится генерировать фейки, которые выглядят настоящими, чтобы обмануть дискриминатор\n",
    "\n",
    "<h4 align=\"center\">\n",
    "    <img width=\"600px\" src=\"./img/generator.jpg\" alt=\"Генератор\" />\n",
    "</h4>\n",
    "\n",
    "> - Дискриминатор (арт-инспектор) учится различать что настоящее, а что подделка\n",
    "> \n",
    "> **Особенности обучения:**\n",
    "> - В процессе обучения генератору не разрешено видеть оригинальных изображений. Он даже не знает, что представляют из себя эти изображения\n",
    "> - Дискриминатору разрешено смотреть на оригинальные изображения в процессе обучения. Однако на вход ему подаются перемешанные фейковые и оригинальные изображения и он не знает, какие из них настоящие. Это дискриминатору предстоит выяснить в процессе обучения.\n",
    ">\n",
    "> **Проблема при обучении:**\n",
    "> - Слишком быстрый процесс обучения дискриминатора. Когда дискриминатор обучается быстро, он смотрит на поддельное изображение и говорит: это 100% подделка. Однако эти 100% бесполезны для генератора, потому что он не знает в каком направлении улучшаться. Таким образом, вывод дискриминатора будет более информативным, например, если он определит, что изображение фальшивое на 87% или 20%, в отличие от 100%."
   ]
  },
  {
   "cell_type": "markdown",
   "metadata": {},
   "source": [
    "### Введение в PyTorch\n",
    "\n",
    "> **PyTorch** наравне с **TensorFlow** самые популярные фреймворки для глубокого машинного обучения\n",
    ">\n",
    "> Основное различие между ними **PyTorch** и **TensorFlow** заключается в способе, которым они обычно производят вычисления, в **PyTorch** все вычисления производятся последовательно (императивное программирование). В **TensorFlow** сперва опрелеляются функции, а потом производятся вычисления (символический подход).\n",
    "\n",
    "<h4 align=\"center\">\n",
    "    <img width=\"600px\" src=\"./img/PyTorch_TensorFlow.png\" alt=\"PyTorch и TensorFlow\" />\n",
    "</h4>"
   ]
  },
  {
   "cell_type": "markdown",
   "metadata": {},
   "source": [
    "### Установка PyTorch\n",
    "\n",
    "> CMD\n",
    ">\n",
    "> ```shell script\n",
    "> pip install torch torchvision\n",
    "> ```"
   ]
  },
  {
   "cell_type": "markdown",
   "metadata": {},
   "source": [
    "### Импорт необходимых инструментов"
   ]
  },
  {
   "cell_type": "code",
   "execution_count": 1,
   "metadata": {},
   "outputs": [],
   "source": [
    "import torch # Машинное обучение (Facebook)\n",
    "from torch import nn # Настраиваемые слои для моделей глубокого обучения\n",
    "\n",
    "import pandas as pd # Обработка и анализ данных\n",
    "import numpy as np # Научные вычисления\n",
    "import matplotlib as mpl # Визуализация графиков\n",
    "\n",
    "import matplotlib.pyplot as plt # Визуализация 2D и 3D графики"
   ]
  },
  {
   "cell_type": "markdown",
   "metadata": {},
   "source": [
    "### Версии необходимых библиотек"
   ]
  },
  {
   "cell_type": "code",
   "execution_count": 2,
   "metadata": {},
   "outputs": [
    {
     "data": {
      "text/html": [
       "<style  type=\"text/css\" >\n",
       "</style><table id=\"T_74d1b2a2_0a10_11eb_b98a_b42e99863328\" ><thead>    <tr>        <th class=\"col_heading level0 col0\" >Package</th>        <th class=\"col_heading level0 col1\" >Version</th>    </tr></thead><tbody>\n",
       "                <tr>\n",
       "                                <td id=\"T_74d1b2a2_0a10_11eb_b98a_b42e99863328row0_col0\" class=\"data row0 col0\" >PyTorch</td>\n",
       "                        <td id=\"T_74d1b2a2_0a10_11eb_b98a_b42e99863328row0_col1\" class=\"data row0 col1\" >1.6.0+cu101</td>\n",
       "            </tr>\n",
       "            <tr>\n",
       "                                <td id=\"T_74d1b2a2_0a10_11eb_b98a_b42e99863328row1_col0\" class=\"data row1 col0\" >NumPy</td>\n",
       "                        <td id=\"T_74d1b2a2_0a10_11eb_b98a_b42e99863328row1_col1\" class=\"data row1 col1\" >1.18.5</td>\n",
       "            </tr>\n",
       "            <tr>\n",
       "                                <td id=\"T_74d1b2a2_0a10_11eb_b98a_b42e99863328row2_col0\" class=\"data row2 col0\" >Pandas</td>\n",
       "                        <td id=\"T_74d1b2a2_0a10_11eb_b98a_b42e99863328row2_col1\" class=\"data row2 col1\" >1.1.3</td>\n",
       "            </tr>\n",
       "            <tr>\n",
       "                                <td id=\"T_74d1b2a2_0a10_11eb_b98a_b42e99863328row3_col0\" class=\"data row3 col0\" >Matplotlib</td>\n",
       "                        <td id=\"T_74d1b2a2_0a10_11eb_b98a_b42e99863328row3_col1\" class=\"data row3 col1\" >3.3.2</td>\n",
       "            </tr>\n",
       "    </tbody></table>"
      ],
      "text/plain": [
       "<pandas.io.formats.style.Styler at 0x1ad51a8d9c8>"
      ]
     },
     "execution_count": 2,
     "metadata": {},
     "output_type": "execute_result"
    }
   ],
   "source": [
    "pkgs = {\n",
    "    'Package': ['PyTorch', 'NumPy', 'Pandas', 'Matplotlib'],\n",
    "    'Version': [i.__version__ for i in [torch, np, pd, mpl]]}\n",
    "\n",
    "df_pkgs = pd.DataFrame(data = pkgs) # Версии используемых библиотек\n",
    "df_pkgs.head(None).style.hide_index() # Отображение первых N строк или все если указать None"
   ]
  },
  {
   "cell_type": "markdown",
   "metadata": {},
   "source": [
    "### Определение модели PyTorch (Линейная регрессия)"
   ]
  },
  {
   "cell_type": "code",
   "execution_count": 8,
   "metadata": {},
   "outputs": [],
   "source": [
    "# Линейная регрессия\n",
    "class LinearRegression(nn.Module):\n",
    "    # Конструктор\n",
    "    def __init__(self, n):\n",
    "        '''\n",
    "        n - количество входных данных\n",
    "        '''\n",
    "        super().__init__()\n",
    "        \n",
    "        # Определение архитектуры логистической регрессии\n",
    "        self.linear_reg = nn.Linear(n, 1)\n",
    "    \n",
    "    def forward(self, x):\n",
    "        '''\n",
    "        x - количество входных данных\n",
    "        '''\n",
    "        return self.linear_reg(x) # Логистическая регрессия"
   ]
  },
  {
   "cell_type": "code",
   "execution_count": 9,
   "metadata": {},
   "outputs": [
    {
     "data": {
      "image/png": "[encoded data removed]",
      "text/plain": [
       "<Figure size 432x288 with 1 Axes>"
      ]
     },
     "metadata": {
      "needs_background": "light"
     },
     "output_type": "display_data"
    }
   ],
   "source": [
    "# Набор данных\n",
    "xs = np.array([-1.0, 0.0, 1.0, 2.0, 3.0, 4.0], dtype = float).astype(np.float32) # X\n",
    "ys = np.array([-3.0, -1.0, 2.0, 3.0, 5.0, 7.0], dtype = float).astype(np.float32) # Y\n",
    "\n",
    "# Транспонирование\n",
    "xs = xs.reshape(-1, 1)\n",
    "ys = ys.reshape(-1, 1)\n",
    "\n",
    "plt.scatter(xs, ys, alpha = 0.5)\n",
    "plt.show()"
   ]
  },
  {
   "cell_type": "code",
   "execution_count": 11,
   "metadata": {},
   "outputs": [
    {
     "name": "stdout",
     "output_type": "stream",
     "text": [
      "Эпоха: 50, Loss: 1.3839339017868042\n",
      "Эпоха: 100, Loss: 0.5783388614654541\n",
      "Эпоха: 150, Loss: 0.2930307388305664\n",
      "Эпоха: 200, Loss: 0.19195760786533356\n",
      "Эпоха: 250, Loss: 0.15615150332450867\n",
      "Эпоха: 300, Loss: 0.14346688985824585\n",
      "Эпоха: 350, Loss: 0.13897323608398438\n",
      "Эпоха: 400, Loss: 0.13738130033016205\n",
      "Эпоха: 450, Loss: 0.1368173360824585\n",
      "Эпоха: 500, Loss: 0.13661755621433258\n"
     ]
    },
    {
     "data": {
      "image/png": "[encoded data removed]",
      "text/plain": [
       "<Figure size 432x288 with 1 Axes>"
      ]
     },
     "metadata": {
      "needs_background": "light"
     },
     "output_type": "display_data"
    },
    {
     "data": {
      "image/png": "[encoded data removed]",
      "text/plain": [
       "<Figure size 432x288 with 1 Axes>"
      ]
     },
     "metadata": {
      "needs_background": "light"
     },
     "output_type": "display_data"
    },
    {
     "data": {
      "text/plain": [
       "18.893264770507812"
      ]
     },
     "execution_count": 11,
     "metadata": {},
     "output_type": "execute_result"
    }
   ],
   "source": [
    "model = LinearRegression(xs.shape[1]) # Инициализация модели\n",
    "model.parameters()\n",
    "\n",
    "criterion = nn.MSELoss() # Функция стоимости модели\n",
    "optimizer = torch.optim.SGD(model.parameters(), lr = 0.01) # Оптимизатор\n",
    "\n",
    "n_epoch = 500 # Количество эпох\n",
    "loss_in_each_epoch = [] # Loss\n",
    "\n",
    "# Обучение модели\n",
    "for epoch in range(n_epoch):\n",
    "    epoch += 1\n",
    "    \n",
    "    # Преобразование numpy в torch\n",
    "    xst = torch.from_numpy(xs)\n",
    "    yst = torch.from_numpy(ys)\n",
    "    \n",
    "    optimizer.zero_grad() # Очистка градиентов от всех оптимизированных тензоров\n",
    "    y_pred = model(xst) # Предсказания модели\n",
    "    loss = criterion(y_pred, yst) # Функция потерь\n",
    "    loss.backward()\n",
    "    optimizer.step()\n",
    "    \n",
    "    # Loss\n",
    "    loss_in_each_epoch.append(loss.item())\n",
    "    \n",
    "    if (epoch) % 50 == 0:\n",
    "        print('Эпоха: {}, Loss: {}'.format(epoch, loss.item()))\n",
    "\n",
    "# Получение предсказаний\n",
    "predicted = model.forward(torch.from_numpy(xs)).cpu().data.numpy()\n",
    "\n",
    "plt.plot(xs, ys, 'ro', label = 'Тренировочные значения', alpha = 0.5)\n",
    "plt.plot(xs, predicted, label = 'Предсказания', alpha = 0.5)\n",
    "plt.legend()\n",
    "plt.show()\n",
    "\n",
    "# Всего эпох\n",
    "epoch = [i for i in range(1, n_epoch + 1)]\n",
    "\n",
    "plt.plot(epoch, loss_in_each_epoch)\n",
    "plt.title('Loss по эпохам')\n",
    "plt.xlabel('Эпохи')\n",
    "plt.ylabel('Loss')\n",
    "plt.show()\n",
    "\n",
    "# Тестовое значение\n",
    "x_test = torch.Tensor([[10.0]])\n",
    "\n",
    "predicted = model.forward((x_test))\n",
    "\n",
    "predicted.item()"
   ]
  },
  {
   "cell_type": "markdown",
   "metadata": {},
   "source": [
    "### Статья\n",
    "\n",
    "> [Состояние фреймворков машинного обучения в 2019 году](https://thegradient.pub/state-of-ml-frameworks-2019-pytorch-dominates-research-tensorflow-dominates-industry/)"
   ]
  },
  {
   "cell_type": "markdown",
   "metadata": {},
   "source": [
    "### Введение в PyTorch"
   ]
  },
  {
   "cell_type": "code",
   "execution_count": 23,
   "metadata": {},
   "outputs": [
    {
     "data": {
      "text/plain": [
       "'GeForce RTX 2080 Ti'"
      ]
     },
     "execution_count": 23,
     "metadata": {},
     "output_type": "execute_result"
    }
   ],
   "source": [
    "torch.cuda.get_device_name() # Получение имени устройства"
   ]
  },
  {
   "cell_type": "markdown",
   "metadata": {},
   "source": [
    "#### Формирование тензора"
   ]
  },
  {
   "cell_type": "code",
   "execution_count": 20,
   "metadata": {},
   "outputs": [
    {
     "data": {
      "text/plain": [
       "tensor([[[1., 2.],\n",
       "         [3., 4.]],\n",
       "\n",
       "        [[5., 6.],\n",
       "         [7., 8.]],\n",
       "\n",
       "        [[9., 0.],\n",
       "         [1., 2.]]])"
      ]
     },
     "execution_count": 20,
     "metadata": {},
     "output_type": "execute_result"
    }
   ],
   "source": [
    "tensor = torch.Tensor([\n",
    "    [[1, 2], [3, 4]], \n",
    "    [[5, 6], [7, 8]], \n",
    "    [[9, 0], [1, 2]]\n",
    "])\n",
    "\n",
    "tensor"
   ]
  },
  {
   "cell_type": "markdown",
   "metadata": {},
   "source": [
    "#### Просмотр устройства"
   ]
  },
  {
   "cell_type": "code",
   "execution_count": 21,
   "metadata": {},
   "outputs": [
    {
     "data": {
      "text/plain": [
       "device(type='cpu')"
      ]
     },
     "execution_count": 21,
     "metadata": {},
     "output_type": "execute_result"
    }
   ],
   "source": [
    "tensor.device"
   ]
  },
  {
   "cell_type": "markdown",
   "metadata": {},
   "source": [
    "#### Выполнение на другом устройстве (**cpu** или **cuda**)"
   ]
  },
  {
   "cell_type": "code",
   "execution_count": 24,
   "metadata": {},
   "outputs": [],
   "source": [
    "new_tensor = tensor.to('cpu') # Или cuda"
   ]
  },
  {
   "cell_type": "markdown",
   "metadata": {},
   "source": [
    "#### Просмотр измерения тензора"
   ]
  },
  {
   "cell_type": "code",
   "execution_count": 25,
   "metadata": {},
   "outputs": [
    {
     "data": {
      "text/plain": [
       "torch.Size([3, 2, 2])"
      ]
     },
     "execution_count": 25,
     "metadata": {},
     "output_type": "execute_result"
    }
   ],
   "source": [
    "tensor.shape"
   ]
  },
  {
   "cell_type": "code",
   "execution_count": 26,
   "metadata": {},
   "outputs": [
    {
     "name": "stdout",
     "output_type": "stream",
     "text": [
      "Ранг = 3\n",
      "Всего элементов в тензоре = 12\n"
     ]
    }
   ],
   "source": [
    "print('Ранг =', len(tensor.shape))\n",
    "print('Всего элементов в тензоре =', tensor.numel())"
   ]
  },
  {
   "cell_type": "markdown",
   "metadata": {},
   "source": [
    "#### Индексация тензора"
   ]
  },
  {
   "cell_type": "code",
   "execution_count": 27,
   "metadata": {},
   "outputs": [
    {
     "data": {
      "text/plain": [
       "tensor([[5., 6.],\n",
       "        [7., 8.]])"
      ]
     },
     "execution_count": 27,
     "metadata": {},
     "output_type": "execute_result"
    }
   ],
   "source": [
    "tensor[1] # Строка под индексом 1"
   ]
  },
  {
   "cell_type": "code",
   "execution_count": 28,
   "metadata": {},
   "outputs": [
    {
     "data": {
      "text/plain": [
       "tensor(7.)"
      ]
     },
     "execution_count": 28,
     "metadata": {},
     "output_type": "execute_result"
    }
   ],
   "source": [
    "tensor[1, 1, 0]"
   ]
  },
  {
   "cell_type": "code",
   "execution_count": 29,
   "metadata": {},
   "outputs": [
    {
     "data": {
      "text/plain": [
       "7.0"
      ]
     },
     "execution_count": 29,
     "metadata": {},
     "output_type": "execute_result"
    }
   ],
   "source": [
    "tensor[1, 1, 0].item() # Значение из тензора в формате Python"
   ]
  },
  {
   "cell_type": "code",
   "execution_count": 30,
   "metadata": {},
   "outputs": [
    {
     "data": {
      "text/plain": [
       "tensor([4., 8., 2.])"
      ]
     },
     "execution_count": 30,
     "metadata": {},
     "output_type": "execute_result"
    }
   ],
   "source": [
    "tensor[:, 1, 1] # Столбец"
   ]
  },
  {
   "cell_type": "markdown",
   "metadata": {},
   "source": [
    "#### Генерация тензора"
   ]
  },
  {
   "cell_type": "code",
   "execution_count": 31,
   "metadata": {},
   "outputs": [
    {
     "data": {
      "text/plain": [
       "tensor([[[1., 1.],\n",
       "         [1., 1.]],\n",
       "\n",
       "        [[1., 1.],\n",
       "         [1., 1.]],\n",
       "\n",
       "        [[1., 1.],\n",
       "         [1., 1.]]])"
      ]
     },
     "execution_count": 31,
     "metadata": {},
     "output_type": "execute_result"
    }
   ],
   "source": [
    "torch.ones_like(tensor) # Тензор заполненный единицами"
   ]
  },
  {
   "cell_type": "code",
   "execution_count": 32,
   "metadata": {},
   "outputs": [
    {
     "data": {
      "text/plain": [
       "tensor([[[0., 0.],\n",
       "         [0., 0.]],\n",
       "\n",
       "        [[0., 0.],\n",
       "         [0., 0.]],\n",
       "\n",
       "        [[0., 0.],\n",
       "         [0., 0.]]])"
      ]
     },
     "execution_count": 32,
     "metadata": {},
     "output_type": "execute_result"
    }
   ],
   "source": [
    "torch.zeros_like(tensor) # Тензор заполненный нулями"
   ]
  },
  {
   "cell_type": "code",
   "execution_count": 33,
   "metadata": {},
   "outputs": [
    {
     "data": {
      "text/plain": [
       "tensor([[[-7.3456e-01, -1.1403e-03],\n",
       "         [-2.2276e-01, -1.1566e-02]],\n",
       "\n",
       "        [[ 1.1134e+00, -2.3763e-01],\n",
       "         [-1.7897e-01,  1.2238e+00]],\n",
       "\n",
       "        [[ 5.9137e-01,  3.6763e-01],\n",
       "         [ 1.3689e+00, -1.0144e+00]]])"
      ]
     },
     "execution_count": 33,
     "metadata": {},
     "output_type": "execute_result"
    }
   ],
   "source": [
    "torch.randn_like(tensor) # Тензор с нормальным Гауссовским распределением"
   ]
  },
  {
   "cell_type": "code",
   "execution_count": 34,
   "metadata": {},
   "outputs": [
    {
     "data": {
      "text/plain": [
       "tensor([[0.2210, 2.0124],\n",
       "        [0.6846, 1.2589]])"
      ]
     },
     "execution_count": 34,
     "metadata": {},
     "output_type": "execute_result"
    }
   ],
   "source": [
    "torch.randn(2, 2, device = 'cpu') # Тензор с нормальным Гауссовским распределением"
   ]
  },
  {
   "cell_type": "markdown",
   "metadata": {},
   "source": [
    "### Введение в GAN"
   ]
  },
  {
   "cell_type": "markdown",
   "metadata": {},
   "source": [
    "#### Дискриминатор против генератора\n",
    "\n",
    "> Два основных компонента GAN это **генератор** и **дискриминатор**\n",
    "\n",
    "##### Дискриминатор (классификатор)\n",
    "\n",
    "> Одним из наиболее используемых типов моделей машинного обучения является классификатор, который используется для сортировки элементов в наборе данных и классификации их по различным категориям. Например, классификатор изображений, который может различать изображения кошек или собак.\n",
    "\n",
    "<h4 align=\"center\">\n",
    "    <img width=\"600px\" src=\"./img/classificator.gif\" alt=\"Дискриминатор\" />\n",
    "</h4>\n",
    "\n",
    "> С точки зрения теории вероятности классификатор хочет вычислить $p(y|x)$, тоесть вероятность того, что при вводе $x$, необходимо узнать вероятность его класса $y$, которая является котом $p(y=\\text{кошка}|x)$ или собакой $p(y=\\text{собака}|x)$.\n",
    ">\n",
    "> Дискриминатор - это просто классификатор с двумя классами: настоящий и поддельный. Учитывая входное $x$ дискриминатор вычислит вероятности $p(настоящий|x)$ и $p(подделка|x)$ и в конечном итоге классифицирует $x$. Входной $x$ не ограничивается изображениями и может быть всем чем угодно. GAN можно обучить работе с видео, текстом, аудио и т.д.\n",
    "\n",
    "##### Генератор\n",
    "\n",
    "> С точки зрения теории вероятности генератор хочет вычислить $p(x|y)$, тоесть вероятность того, на сколько созданный им $(y=\\text{объект})$ похож на оригинальный $x$.\n",
    ">\n",
    "> На примере видно, как генератор пытается найти особенности, которые представляют всех кошек, используя обратную связь от дискриминатора.\n",
    "\n",
    "<h4 align=\"center\">\n",
    "    <img width=\"600px\" src=\"./img/gan2.png\" alt=\"Генератор\" />\n",
    "</h4>"
   ]
  },
  {
   "cell_type": "code",
   "execution_count": null,
   "metadata": {},
   "outputs": [],
   "source": []
  }
 ],
 "metadata": {
  "kernelspec": {
   "display_name": "Python 3",
   "language": "python",
   "name": "python3"
  },
  "language_info": {
   "codemirror_mode": {
    "name": "ipython",
    "version": 3
   },
   "file_extension": ".py",
   "mimetype": "text/x-python",
   "name": "python",
   "nbconvert_exporter": "python",
   "pygments_lexer": "ipython3",
   "version": "3.7.9"
  }
 },
 "nbformat": 4,
 "nbformat_minor": 4
}
